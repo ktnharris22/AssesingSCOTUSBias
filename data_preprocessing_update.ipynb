{
 "cells": [
  {
   "cell_type": "code",
   "execution_count": 10,
   "metadata": {},
   "outputs": [
    {
     "name": "stdout",
     "output_type": "stream",
     "text": [
      "(14924, 11)\n",
      "author_name                        object\n",
      "category                           object\n",
      "case_name                          object\n",
      "date_filed                 datetime64[ns]\n",
      "year_filed                          int64\n",
      "scdb_id                            object\n",
      "scdb_decision_direction           float64\n",
      "scdb_votes_majority               float64\n",
      "scdb_votes_minority               float64\n",
      "text                               object\n",
      "author_lastname                    object\n",
      "dtype: object\n"
     ]
    },
    {
     "data": {
      "text/html": [
       "<div>\n",
       "<style scoped>\n",
       "    .dataframe tbody tr th:only-of-type {\n",
       "        vertical-align: middle;\n",
       "    }\n",
       "\n",
       "    .dataframe tbody tr th {\n",
       "        vertical-align: top;\n",
       "    }\n",
       "\n",
       "    .dataframe thead th {\n",
       "        text-align: right;\n",
       "    }\n",
       "</style>\n",
       "<table border=\"1\" class=\"dataframe\">\n",
       "  <thead>\n",
       "    <tr style=\"text-align: right;\">\n",
       "      <th></th>\n",
       "      <th>author_name</th>\n",
       "      <th>category</th>\n",
       "      <th>case_name</th>\n",
       "      <th>date_filed</th>\n",
       "      <th>year_filed</th>\n",
       "      <th>scdb_id</th>\n",
       "      <th>scdb_decision_direction</th>\n",
       "      <th>scdb_votes_majority</th>\n",
       "      <th>scdb_votes_minority</th>\n",
       "      <th>text</th>\n",
       "      <th>author_lastname</th>\n",
       "    </tr>\n",
       "  </thead>\n",
       "  <tbody>\n",
       "    <tr>\n",
       "      <th>0</th>\n",
       "      <td>Justice Roberts</td>\n",
       "      <td>majority</td>\n",
       "      <td>McCutcheon v. Federal Election Comm'n</td>\n",
       "      <td>2014-04-02</td>\n",
       "      <td>2014</td>\n",
       "      <td>2013-033</td>\n",
       "      <td>1.0</td>\n",
       "      <td>5.0</td>\n",
       "      <td>4.0</td>\n",
       "      <td>There is no right more basic in our democracy ...</td>\n",
       "      <td>Roberts</td>\n",
       "    </tr>\n",
       "    <tr>\n",
       "      <th>1</th>\n",
       "      <td>Justice Thomas</td>\n",
       "      <td>concurring</td>\n",
       "      <td>McCutcheon v. Federal Election Comm'n</td>\n",
       "      <td>2014-04-02</td>\n",
       "      <td>2014</td>\n",
       "      <td>2013-033</td>\n",
       "      <td>1.0</td>\n",
       "      <td>5.0</td>\n",
       "      <td>4.0</td>\n",
       "      <td>I adhere to the view that this Court’s decisio...</td>\n",
       "      <td>Thomas</td>\n",
       "    </tr>\n",
       "    <tr>\n",
       "      <th>2</th>\n",
       "      <td>Justice Breyer</td>\n",
       "      <td>dissenting</td>\n",
       "      <td>McCutcheon v. Federal Election Comm'n</td>\n",
       "      <td>2014-04-02</td>\n",
       "      <td>2014</td>\n",
       "      <td>2013-033</td>\n",
       "      <td>1.0</td>\n",
       "      <td>5.0</td>\n",
       "      <td>4.0</td>\n",
       "      <td>Nearly 40 years ago in Buckley v. Valeo, 424 U...</td>\n",
       "      <td>Breyer</td>\n",
       "    </tr>\n",
       "  </tbody>\n",
       "</table>\n",
       "</div>"
      ],
      "text/plain": [
       "       author_name    category                              case_name  \\\n",
       "0  Justice Roberts    majority  McCutcheon v. Federal Election Comm'n   \n",
       "1   Justice Thomas  concurring  McCutcheon v. Federal Election Comm'n   \n",
       "2   Justice Breyer  dissenting  McCutcheon v. Federal Election Comm'n   \n",
       "\n",
       "  date_filed  year_filed   scdb_id  scdb_decision_direction  \\\n",
       "0 2014-04-02        2014  2013-033                      1.0   \n",
       "1 2014-04-02        2014  2013-033                      1.0   \n",
       "2 2014-04-02        2014  2013-033                      1.0   \n",
       "\n",
       "   scdb_votes_majority  scdb_votes_minority  \\\n",
       "0                  5.0                  4.0   \n",
       "1                  5.0                  4.0   \n",
       "2                  5.0                  4.0   \n",
       "\n",
       "                                                text author_lastname  \n",
       "0  There is no right more basic in our democracy ...         Roberts  \n",
       "1  I adhere to the view that this Court’s decisio...          Thomas  \n",
       "2  Nearly 40 years ago in Buckley v. Valeo, 424 U...          Breyer  "
      ]
     },
     "execution_count": 10,
     "metadata": {},
     "output_type": "execute_result"
    }
   ],
   "source": [
    "import pandas as pd\n",
    "import numpy as np\n",
    "\n",
    "df_40 = pd.read_csv(\"Data/all_opinions_1940.csv\")\n",
    "df_40['date_filed'] = df_40['date_filed'].apply(pd.to_datetime, errors='coerce')\n",
    "df_40['author_lastname'] = df_40.author_name.apply(lambda x: x.split(\" \")[-1]) #get last name of each justice\n",
    "df_40['author_lastname'] = np.where((df_40['author_lastname'] == 'Roberts') & (df_40['year_filed']<2005), 'Roberts, O.', df_40['author_lastname'])\n",
    "df_40 = df_40[df_40['per_curiam']==False] # per curiam opinions are opinions the court deemed to be so straightforward there is no named author\n",
    "df_40 = df_40.drop(columns=['Unnamed: 0','federal_cite_one','absolute_url','cluster','per_curiam'])\n",
    "\n",
    "print(df_40.shape)\n",
    "print(df_40.dtypes)\n",
    "df_40.head(3)"
   ]
  },
  {
   "cell_type": "code",
   "execution_count": 11,
   "metadata": {},
   "outputs": [
    {
     "name": "stdout",
     "output_type": "stream",
     "text": [
      "(44, 6)\n",
      "ChiefJustice                    float64\n",
      "Name                             object\n",
      "AppointedByPresident             object\n",
      "JudicialOathTaken        datetime64[ns]\n",
      "DateServiceTerminated    datetime64[ns]\n",
      "JusticeLastName                  object\n",
      "dtype: object\n"
     ]
    }
   ],
   "source": [
    "from datetime import datetime\n",
    "df_justice = pd.read_csv(\"./Data/JusticeData.csv\")\n",
    "df_justice = df_justice.drop(columns=['StateApptFrom'])\n",
    "df_justice['JusticeLastName'] = df_justice.Name.apply(lambda x: x.split(\",\")[0]) #get last name of each justice\n",
    "df_justice[['DateServiceTerminated','JudicialOathTaken']] = df_justice[['DateServiceTerminated','JudicialOathTaken']].apply(pd.to_datetime, errors='coerce')\n",
    "df_justice['JusticeLastName'] = np.where((df_justice['JusticeLastName'] == 'Roberts') & (df_justice['DateServiceTerminated']<datetime.strptime('January 1, 2005', '%B %d, %Y')), 'Roberts, O.', df_justice['JusticeLastName'])\n",
    "df_justice = df_justice[(df_justice['DateServiceTerminated'] >= datetime.strptime('January 1, 1940', '%B %d, %Y')) | (df_justice['DateServiceTerminated'].isna()==True)]\n",
    "df_justice = df_justice.drop_duplicates(subset='Name', keep='first')\n",
    "df_justice.fillna({'ChiefJustice': 0}, inplace=True)\n",
    "\n",
    "print(df_justice.shape)\n",
    "print(df_justice.dtypes)"
   ]
  },
  {
   "cell_type": "code",
   "execution_count": 12,
   "metadata": {},
   "outputs": [
    {
     "name": "stdout",
     "output_type": "stream",
     "text": [
      "(45, 2)\n",
      "PRESIDENT          object\n",
      "POLITICAL PARTY    object\n",
      "dtype: object\n"
     ]
    }
   ],
   "source": [
    "df_presidents = pd.read_csv(\"./Data/PresidentialParty.csv\",usecols=['PRESIDENT','POLITICAL PARTY'])\n",
    "print(df_presidents.shape)\n",
    "print(df_presidents.dtypes)\n",
    "\n",
    "df_presidents['LastName'] = df_presidents['PRESIDENT'].apply(lambda x: x.split(\" \")[-1]) #get last name of each pres\n",
    "df_presidents.loc[41, 'LastName'] = 'Bush, G. W.' #deal with weird cases of same last name \n",
    "df_presidents.loc[39, 'LastName'] = 'Bush, G. H. W.' \n",
    "df_presidents.loc[34, 'LastName'] = 'Johnson, L.'\n",
    "df_presidents.loc[30, 'LastName'] = 'Roosevelt, F.'\n",
    "df_presidents.loc[24, 'LastName'] = 'Roosevelt, T.'\n",
    "df_presidents.loc[8, 'LastName'] = 'Harrison, W. H.'  \n",
    "df_presidents.loc[5, 'LastName'] = 'Adams, J. Q.'\n",
    "df_presidents.loc[1, 'LastName'] = 'Adams, J.'  "
   ]
  },
  {
   "cell_type": "code",
   "execution_count": 13,
   "metadata": {},
   "outputs": [],
   "source": [
    "df_justice.AppointedByPresident = df_justice.AppointedByPresident.astype(str)\n",
    "df_presidents.LastName = df_presidents.LastName.astype(str)\n",
    "df_justice = df_justice.merge(df_presidents, left_on='AppointedByPresident', right_on='LastName', how='left').drop(columns=['PRESIDENT','LastName'])\n",
    "df_40 = df_40.merge(df_justice, left_on='author_lastname', right_on='JusticeLastName', how=\"left\").drop(columns=['author_lastname','JusticeLastName','Name'])"
   ]
  },
  {
   "cell_type": "code",
   "execution_count": 14,
   "metadata": {},
   "outputs": [],
   "source": [
    "df_40[df_40['POLITICAL PARTY'].isna() == True] #Let's drop these\n",
    "df_40 = df_40.dropna(subset = 'POLITICAL PARTY')"
   ]
  },
  {
   "cell_type": "code",
   "execution_count": 15,
   "metadata": {},
   "outputs": [],
   "source": [
    "#Text field is the opinion\n",
    "#important: Authorname, case_name, category, date_filed,"
   ]
  },
  {
   "cell_type": "code",
   "execution_count": 16,
   "metadata": {},
   "outputs": [],
   "source": [
    "# df_40 = df_40[df_40['author_name'] != 'Justice Or']\n",
    "# df_40 = df_40[df_40['author_name'] != 'Justice And']\n",
    "# df_40 = df_40[df_40['author_name'] != 'Justice O2122']"
   ]
  },
  {
   "cell_type": "markdown",
   "metadata": {},
   "source": [
    "## Transforming Data\n",
    "\n",
    "We are going to create lists of the authors of every case and their political affiliation. "
   ]
  },
  {
   "cell_type": "code",
   "execution_count": 17,
   "metadata": {},
   "outputs": [],
   "source": [
    "authors = df_40['author_name']\n",
    "category = df_40['category']\n",
    "case_name = df_40['case_name']\n",
    "year = df_40['year_filed']\n",
    "political_aff = df_40['POLITICAL PARTY']\n",
    "case_txt = df_40['text']\n",
    "case_id = df_40['scdb_id']"
   ]
  },
  {
   "cell_type": "markdown",
   "metadata": {},
   "source": [
    "* We are going to create a list of lists that have the words of the cases"
   ]
  },
  {
   "cell_type": "code",
   "execution_count": 18,
   "metadata": {},
   "outputs": [],
   "source": [
    "import re\n",
    "\n",
    "stop_words = ['..','__','___','___','_','-','--','there','.',';',':','the','to','in','rt','of','a', 'for','and','is','on','amp','you','i','at','will','our','we','be','with','that','it','this','are','https','s','have','by','from','has','all','as','not','was','out','t','your','my','who','her','me','he','about','so','make','just''2','w','she','they','us','his','if','up','again','an','what','one','no','here','but','can','last','than','were','do','would','been','am','http','had','when','made','them','or','there','another','isil','aumf','youre']\n",
    "w_txt = [sentence.lower().split() for sentence in case_txt] #CHANGE AT THE END!!!\n",
    "\n",
    "words_txt = [[word for word in k if word not in stop_words \n",
    "            and re.match('[a-zA-Z]+$', word)] for k in w_txt]"
   ]
  },
  {
   "cell_type": "markdown",
   "metadata": {
    "tags": []
   },
   "source": [
    "* Let's see the frequency of the words"
   ]
  },
  {
   "cell_type": "code",
   "execution_count": 19,
   "metadata": {},
   "outputs": [],
   "source": [
    "words = [word for sentence in words_txt for word in sentence]\n",
    "\n",
    "from collections import Counter\n",
    "\n",
    "freq = Counter(words)\n",
    "f = sorted([(freq[k],k) for k in freq], reverse = True)"
   ]
  },
  {
   "cell_type": "code",
   "execution_count": 20,
   "metadata": {
    "tags": []
   },
   "outputs": [
    {
     "data": {
      "image/png": "[encoded data removed]",
      "text/plain": [
       "<Figure size 1080x576 with 1 Axes>"
      ]
     },
     "metadata": {
      "needs_background": "light"
     },
     "output_type": "display_data"
    }
   ],
   "source": [
    "import matplotlib.pyplot as plt\n",
    "\n",
    "fr = f[:50]\n",
    "w_w = [k for v,k in fr]\n",
    "f_w = [v for v,k in fr]\n",
    "plt.figure(figsize=(15, 8))\n",
    "plt.bar(w_w,f_w)\n",
    "plt.ylabel(\"Frequency (#)\")\n",
    "plt.title(\"Words\")\n",
    "plt.xticks(rotation=90)\n",
    "plt.show()"
   ]
  },
  {
   "cell_type": "markdown",
   "metadata": {},
   "source": [
    "* Let's differentiate between Republicans and Democrats"
   ]
  },
  {
   "cell_type": "code",
   "execution_count": 32,
   "metadata": {},
   "outputs": [],
   "source": [
    "df_R_40 = df_40[df_40['POLITICAL PARTY'] == 'Republican']\n",
    "df_D_40 = df_40[df_40['POLITICAL PARTY'] == 'Democratic']"
   ]
  },
  {
   "cell_type": "code",
   "execution_count": 23,
   "metadata": {
    "tags": []
   },
   "outputs": [
    {
     "ename": "KeyError",
     "evalue": "52",
     "output_type": "error",
     "traceback": [
      "\u001b[1;31m---------------------------------------------------------------------------\u001b[0m",
      "\u001b[1;31mKeyError\u001b[0m                                  Traceback (most recent call last)",
      "File \u001b[1;32m~\\anaconda3\\lib\\site-packages\\pandas\\core\\indexes\\base.py:3621\u001b[0m, in \u001b[0;36mIndex.get_loc\u001b[1;34m(self, key, method, tolerance)\u001b[0m\n\u001b[0;32m   <a href='file:///c%3A/Users/ktnha/anaconda3/lib/site-packages/pandas/core/indexes/base.py?line=3619'>3620</a>\u001b[0m \u001b[39mtry\u001b[39;00m:\n\u001b[1;32m-> <a href='file:///c%3A/Users/ktnha/anaconda3/lib/site-packages/pandas/core/indexes/base.py?line=3620'>3621</a>\u001b[0m     \u001b[39mreturn\u001b[39;00m \u001b[39mself\u001b[39;49m\u001b[39m.\u001b[39;49m_engine\u001b[39m.\u001b[39;49mget_loc(casted_key)\n\u001b[0;32m   <a href='file:///c%3A/Users/ktnha/anaconda3/lib/site-packages/pandas/core/indexes/base.py?line=3621'>3622</a>\u001b[0m \u001b[39mexcept\u001b[39;00m \u001b[39mKeyError\u001b[39;00m \u001b[39mas\u001b[39;00m err:\n",
      "File \u001b[1;32m~\\anaconda3\\lib\\site-packages\\pandas\\_libs\\index.pyx:136\u001b[0m, in \u001b[0;36mpandas._libs.index.IndexEngine.get_loc\u001b[1;34m()\u001b[0m\n",
      "File \u001b[1;32m~\\anaconda3\\lib\\site-packages\\pandas\\_libs\\index.pyx:163\u001b[0m, in \u001b[0;36mpandas._libs.index.IndexEngine.get_loc\u001b[1;34m()\u001b[0m\n",
      "File \u001b[1;32mpandas\\_libs\\hashtable_class_helper.pxi:2131\u001b[0m, in \u001b[0;36mpandas._libs.hashtable.Int64HashTable.get_item\u001b[1;34m()\u001b[0m\n",
      "File \u001b[1;32mpandas\\_libs\\hashtable_class_helper.pxi:2140\u001b[0m, in \u001b[0;36mpandas._libs.hashtable.Int64HashTable.get_item\u001b[1;34m()\u001b[0m\n",
      "\u001b[1;31mKeyError\u001b[0m: 52",
      "\nThe above exception was the direct cause of the following exception:\n",
      "\u001b[1;31mKeyError\u001b[0m                                  Traceback (most recent call last)",
      "\u001b[1;32mc:\\Users\\ktnha\\OneDrive\\Documents\\CMU\\2nd Year\\Unstructured Data Analytics for Policy\\AssesingSCOTUSBias\\data_preprocessing_update.ipynb Cell 17'\u001b[0m in \u001b[0;36m<cell line: 5>\u001b[1;34m()\u001b[0m\n\u001b[0;32m      <a href='vscode-notebook-cell:/c%3A/Users/ktnha/OneDrive/Documents/CMU/2nd%20Year/Unstructured%20Data%20Analytics%20for%20Policy/AssesingSCOTUSBias/data_preprocessing_update.ipynb#ch0000015?line=0'>1</a>\u001b[0m l \u001b[39m=\u001b[39m \u001b[39mrange\u001b[39m(\u001b[39mlen\u001b[39m(political_aff))\n\u001b[0;32m      <a href='vscode-notebook-cell:/c%3A/Users/ktnha/OneDrive/Documents/CMU/2nd%20Year/Unstructured%20Data%20Analytics%20for%20Policy/AssesingSCOTUSBias/data_preprocessing_update.ipynb#ch0000015?line=2'>3</a>\u001b[0m \u001b[39m## DEMOCRATS\u001b[39;00m\n\u001b[1;32m----> <a href='vscode-notebook-cell:/c%3A/Users/ktnha/OneDrive/Documents/CMU/2nd%20Year/Unstructured%20Data%20Analytics%20for%20Policy/AssesingSCOTUSBias/data_preprocessing_update.ipynb#ch0000015?line=4'>5</a>\u001b[0m authors_D \u001b[39m=\u001b[39m [authors[i] \u001b[39mfor\u001b[39;00m i \u001b[39min\u001b[39;00m l \u001b[39mif\u001b[39;00m political_aff[i] \u001b[39m==\u001b[39m \u001b[39m'\u001b[39m\u001b[39mDemocratic\u001b[39m\u001b[39m'\u001b[39m]\n\u001b[0;32m      <a href='vscode-notebook-cell:/c%3A/Users/ktnha/OneDrive/Documents/CMU/2nd%20Year/Unstructured%20Data%20Analytics%20for%20Policy/AssesingSCOTUSBias/data_preprocessing_update.ipynb#ch0000015?line=5'>6</a>\u001b[0m category_D \u001b[39m=\u001b[39m [category[i] \u001b[39mfor\u001b[39;00m i \u001b[39min\u001b[39;00m l \u001b[39mif\u001b[39;00m political_aff[i] \u001b[39m==\u001b[39m \u001b[39m'\u001b[39m\u001b[39mDemocratic\u001b[39m\u001b[39m'\u001b[39m]\n\u001b[0;32m      <a href='vscode-notebook-cell:/c%3A/Users/ktnha/OneDrive/Documents/CMU/2nd%20Year/Unstructured%20Data%20Analytics%20for%20Policy/AssesingSCOTUSBias/data_preprocessing_update.ipynb#ch0000015?line=6'>7</a>\u001b[0m case_name_D \u001b[39m=\u001b[39m [case_name[i] \u001b[39mfor\u001b[39;00m i \u001b[39min\u001b[39;00m l \u001b[39mif\u001b[39;00m political_aff[i] \u001b[39m==\u001b[39m \u001b[39m'\u001b[39m\u001b[39mDemocratic\u001b[39m\u001b[39m'\u001b[39m]\n",
      "\u001b[1;32mc:\\Users\\ktnha\\OneDrive\\Documents\\CMU\\2nd Year\\Unstructured Data Analytics for Policy\\AssesingSCOTUSBias\\data_preprocessing_update.ipynb Cell 17'\u001b[0m in \u001b[0;36m<listcomp>\u001b[1;34m(.0)\u001b[0m\n\u001b[0;32m      <a href='vscode-notebook-cell:/c%3A/Users/ktnha/OneDrive/Documents/CMU/2nd%20Year/Unstructured%20Data%20Analytics%20for%20Policy/AssesingSCOTUSBias/data_preprocessing_update.ipynb#ch0000015?line=0'>1</a>\u001b[0m l \u001b[39m=\u001b[39m \u001b[39mrange\u001b[39m(\u001b[39mlen\u001b[39m(political_aff))\n\u001b[0;32m      <a href='vscode-notebook-cell:/c%3A/Users/ktnha/OneDrive/Documents/CMU/2nd%20Year/Unstructured%20Data%20Analytics%20for%20Policy/AssesingSCOTUSBias/data_preprocessing_update.ipynb#ch0000015?line=2'>3</a>\u001b[0m \u001b[39m## DEMOCRATS\u001b[39;00m\n\u001b[1;32m----> <a href='vscode-notebook-cell:/c%3A/Users/ktnha/OneDrive/Documents/CMU/2nd%20Year/Unstructured%20Data%20Analytics%20for%20Policy/AssesingSCOTUSBias/data_preprocessing_update.ipynb#ch0000015?line=4'>5</a>\u001b[0m authors_D \u001b[39m=\u001b[39m [authors[i] \u001b[39mfor\u001b[39;00m i \u001b[39min\u001b[39;00m l \u001b[39mif\u001b[39;00m political_aff[i] \u001b[39m==\u001b[39m \u001b[39m'\u001b[39m\u001b[39mDemocratic\u001b[39m\u001b[39m'\u001b[39m]\n\u001b[0;32m      <a href='vscode-notebook-cell:/c%3A/Users/ktnha/OneDrive/Documents/CMU/2nd%20Year/Unstructured%20Data%20Analytics%20for%20Policy/AssesingSCOTUSBias/data_preprocessing_update.ipynb#ch0000015?line=5'>6</a>\u001b[0m category_D \u001b[39m=\u001b[39m [category[i] \u001b[39mfor\u001b[39;00m i \u001b[39min\u001b[39;00m l \u001b[39mif\u001b[39;00m political_aff[i] \u001b[39m==\u001b[39m \u001b[39m'\u001b[39m\u001b[39mDemocratic\u001b[39m\u001b[39m'\u001b[39m]\n\u001b[0;32m      <a href='vscode-notebook-cell:/c%3A/Users/ktnha/OneDrive/Documents/CMU/2nd%20Year/Unstructured%20Data%20Analytics%20for%20Policy/AssesingSCOTUSBias/data_preprocessing_update.ipynb#ch0000015?line=6'>7</a>\u001b[0m case_name_D \u001b[39m=\u001b[39m [case_name[i] \u001b[39mfor\u001b[39;00m i \u001b[39min\u001b[39;00m l \u001b[39mif\u001b[39;00m political_aff[i] \u001b[39m==\u001b[39m \u001b[39m'\u001b[39m\u001b[39mDemocratic\u001b[39m\u001b[39m'\u001b[39m]\n",
      "File \u001b[1;32m~\\anaconda3\\lib\\site-packages\\pandas\\core\\series.py:958\u001b[0m, in \u001b[0;36mSeries.__getitem__\u001b[1;34m(self, key)\u001b[0m\n\u001b[0;32m    <a href='file:///c%3A/Users/ktnha/anaconda3/lib/site-packages/pandas/core/series.py?line=954'>955</a>\u001b[0m     \u001b[39mreturn\u001b[39;00m \u001b[39mself\u001b[39m\u001b[39m.\u001b[39m_values[key]\n\u001b[0;32m    <a href='file:///c%3A/Users/ktnha/anaconda3/lib/site-packages/pandas/core/series.py?line=956'>957</a>\u001b[0m \u001b[39melif\u001b[39;00m key_is_scalar:\n\u001b[1;32m--> <a href='file:///c%3A/Users/ktnha/anaconda3/lib/site-packages/pandas/core/series.py?line=957'>958</a>\u001b[0m     \u001b[39mreturn\u001b[39;00m \u001b[39mself\u001b[39;49m\u001b[39m.\u001b[39;49m_get_value(key)\n\u001b[0;32m    <a href='file:///c%3A/Users/ktnha/anaconda3/lib/site-packages/pandas/core/series.py?line=959'>960</a>\u001b[0m \u001b[39mif\u001b[39;00m is_hashable(key):\n\u001b[0;32m    <a href='file:///c%3A/Users/ktnha/anaconda3/lib/site-packages/pandas/core/series.py?line=960'>961</a>\u001b[0m     \u001b[39m# Otherwise index.get_value will raise InvalidIndexError\u001b[39;00m\n\u001b[0;32m    <a href='file:///c%3A/Users/ktnha/anaconda3/lib/site-packages/pandas/core/series.py?line=961'>962</a>\u001b[0m     \u001b[39mtry\u001b[39;00m:\n\u001b[0;32m    <a href='file:///c%3A/Users/ktnha/anaconda3/lib/site-packages/pandas/core/series.py?line=962'>963</a>\u001b[0m         \u001b[39m# For labels that don't resolve as scalars like tuples and frozensets\u001b[39;00m\n",
      "File \u001b[1;32m~\\anaconda3\\lib\\site-packages\\pandas\\core\\series.py:1069\u001b[0m, in \u001b[0;36mSeries._get_value\u001b[1;34m(self, label, takeable)\u001b[0m\n\u001b[0;32m   <a href='file:///c%3A/Users/ktnha/anaconda3/lib/site-packages/pandas/core/series.py?line=1065'>1066</a>\u001b[0m     \u001b[39mreturn\u001b[39;00m \u001b[39mself\u001b[39m\u001b[39m.\u001b[39m_values[label]\n\u001b[0;32m   <a href='file:///c%3A/Users/ktnha/anaconda3/lib/site-packages/pandas/core/series.py?line=1067'>1068</a>\u001b[0m \u001b[39m# Similar to Index.get_value, but we do not fall back to positional\u001b[39;00m\n\u001b[1;32m-> <a href='file:///c%3A/Users/ktnha/anaconda3/lib/site-packages/pandas/core/series.py?line=1068'>1069</a>\u001b[0m loc \u001b[39m=\u001b[39m \u001b[39mself\u001b[39;49m\u001b[39m.\u001b[39;49mindex\u001b[39m.\u001b[39;49mget_loc(label)\n\u001b[0;32m   <a href='file:///c%3A/Users/ktnha/anaconda3/lib/site-packages/pandas/core/series.py?line=1069'>1070</a>\u001b[0m \u001b[39mreturn\u001b[39;00m \u001b[39mself\u001b[39m\u001b[39m.\u001b[39mindex\u001b[39m.\u001b[39m_get_values_for_loc(\u001b[39mself\u001b[39m, loc, label)\n",
      "File \u001b[1;32m~\\anaconda3\\lib\\site-packages\\pandas\\core\\indexes\\base.py:3623\u001b[0m, in \u001b[0;36mIndex.get_loc\u001b[1;34m(self, key, method, tolerance)\u001b[0m\n\u001b[0;32m   <a href='file:///c%3A/Users/ktnha/anaconda3/lib/site-packages/pandas/core/indexes/base.py?line=3620'>3621</a>\u001b[0m     \u001b[39mreturn\u001b[39;00m \u001b[39mself\u001b[39m\u001b[39m.\u001b[39m_engine\u001b[39m.\u001b[39mget_loc(casted_key)\n\u001b[0;32m   <a href='file:///c%3A/Users/ktnha/anaconda3/lib/site-packages/pandas/core/indexes/base.py?line=3621'>3622</a>\u001b[0m \u001b[39mexcept\u001b[39;00m \u001b[39mKeyError\u001b[39;00m \u001b[39mas\u001b[39;00m err:\n\u001b[1;32m-> <a href='file:///c%3A/Users/ktnha/anaconda3/lib/site-packages/pandas/core/indexes/base.py?line=3622'>3623</a>\u001b[0m     \u001b[39mraise\u001b[39;00m \u001b[39mKeyError\u001b[39;00m(key) \u001b[39mfrom\u001b[39;00m \u001b[39merr\u001b[39;00m\n\u001b[0;32m   <a href='file:///c%3A/Users/ktnha/anaconda3/lib/site-packages/pandas/core/indexes/base.py?line=3623'>3624</a>\u001b[0m \u001b[39mexcept\u001b[39;00m \u001b[39mTypeError\u001b[39;00m:\n\u001b[0;32m   <a href='file:///c%3A/Users/ktnha/anaconda3/lib/site-packages/pandas/core/indexes/base.py?line=3624'>3625</a>\u001b[0m     \u001b[39m# If we have a listlike key, _check_indexing_error will raise\u001b[39;00m\n\u001b[0;32m   <a href='file:///c%3A/Users/ktnha/anaconda3/lib/site-packages/pandas/core/indexes/base.py?line=3625'>3626</a>\u001b[0m     \u001b[39m#  InvalidIndexError. Otherwise we fall through and re-raise\u001b[39;00m\n\u001b[0;32m   <a href='file:///c%3A/Users/ktnha/anaconda3/lib/site-packages/pandas/core/indexes/base.py?line=3626'>3627</a>\u001b[0m     \u001b[39m#  the TypeError.\u001b[39;00m\n\u001b[0;32m   <a href='file:///c%3A/Users/ktnha/anaconda3/lib/site-packages/pandas/core/indexes/base.py?line=3627'>3628</a>\u001b[0m     \u001b[39mself\u001b[39m\u001b[39m.\u001b[39m_check_indexing_error(key)\n",
      "\u001b[1;31mKeyError\u001b[0m: 52"
     ]
    }
   ],
   "source": [
    "l = range(len(political_aff))\n",
    "\n",
    "## DEMOCRATS\n",
    "\n",
    "authors_D = [authors[i] for i in l if political_aff[i] == 'Democratic']\n",
    "category_D = [category[i] for i in l if political_aff[i] == 'Democratic']\n",
    "case_name_D = [case_name[i] for i in l if political_aff[i] == 'Democratic']\n",
    "year_D = [year[i] for i in l if political_aff[i] == 'Democratic']\n",
    "political_aff_D = [political_aff[i] for i in l if political_aff[i] == 'Democratic']\n",
    "case_txt_D = [case_txt[i] for i in l if political_aff[i] == 'Democratic']\n",
    "case_id_D = [case_id[i] for i in l if political_aff[i] == 'Democratic']\n",
    "words_txt_D = [words_txt[i] for i in l if political_aff[i] == 'Democratic']\n",
    "\n",
    "words_D = [word for sentence in words_txt_D for word in sentence]\n",
    "freq_D = Counter(words_D)\n",
    "f_D = sorted([(freq_D[k],k) for k in freq_D], reverse = True)\n",
    "w_w_D = [k for v,k in f_D]\n",
    "f_w_D = [v for v,k in f_D]\n",
    "\n",
    "## REPUBLICANS\n",
    "\n",
    "authors_R = [authors[i] for i in l if political_aff[i] == 'Republican']\n",
    "category_R = [category[i] for i in l if political_aff[i] == 'Republican']\n",
    "case_name_R = [case_name[i] for i in l if political_aff[i] == 'Republican']\n",
    "year_R = [year[i] for i in l if political_aff[i] == 'Republican']\n",
    "political_aff_R = [political_aff[i] for i in l if political_aff[i] == 'Republican']\n",
    "case_txt_R = [case_txt[i] for i in l if political_aff[i] == 'Republican']\n",
    "case_id_R = [case_id[i] for i in l if political_aff[i] == 'Republican']\n",
    "words_txt_R = [words_txt[i] for i in l if political_aff[i] == 'Republican']\n",
    "\n",
    "words_R = [word for sentence in words_txt_R for word in sentence]\n",
    "freq_R = Counter(words_R)\n",
    "f_R = sorted([(freq_R[k],k) for k in freq_R], reverse = True)\n",
    "w_w_R = [k for v,k in f_R]\n",
    "f_w_R = [v for v,k in f_R]"
   ]
  },
  {
   "cell_type": "markdown",
   "metadata": {},
   "source": [
    "* Frequency of words for each Democratic and Republican party"
   ]
  },
  {
   "cell_type": "code",
   "execution_count": null,
   "metadata": {},
   "outputs": [],
   "source": [
    "plt.figure(figsize=(15, 8))\n",
    "plt.bar(w_w_D[:50],f_w_D[:50])\n",
    "plt.title(\"Frequency of Words of Democratic Judges\")\n",
    "plt.ylabel(\"Frequency (#)\")\n",
    "plt.xticks(rotation=90)\n",
    "plt.show()"
   ]
  },
  {
   "cell_type": "code",
   "execution_count": null,
   "metadata": {},
   "outputs": [],
   "source": [
    "plt.figure(figsize=(15, 8))\n",
    "plt.bar(w_w_R[:50],f_w_R[:50])\n",
    "plt.title(\"Frequency of Words of Republican Judges\")\n",
    "plt.ylabel(\"Frequency (#)\")\n",
    "plt.xticks(rotation=90)\n",
    "plt.show()"
   ]
  },
  {
   "cell_type": "code",
   "execution_count": null,
   "metadata": {},
   "outputs": [],
   "source": [
    "plt.figure(figsize=(20, 8))\n",
    "plt.bar(w_w_D[:100],f_w_D[:100], alpha=0.4)\n",
    "plt.bar(w_w_R[:100],f_w_R[:100], alpha=0.4)\n",
    "plt.title(\"Frequency of Words of Republican Judges\")\n",
    "plt.ylabel(\"Frequency (#)\")\n",
    "plt.xticks(rotation=90)\n",
    "plt.show()"
   ]
  },
  {
   "cell_type": "markdown",
   "metadata": {},
   "source": [
    "## PMI"
   ]
  },
  {
   "cell_type": "code",
   "execution_count": null,
   "metadata": {},
   "outputs": [],
   "source": [
    "import math\n",
    "\n",
    "only_words_txt = [list(set(only_words)) for only_words in words_txt] #unique words per sentence\n",
    "\n",
    "words_one_per_sentence = [word for sentence in only_words_txt for word in sentence]\n",
    "count_words = Counter(words_one_per_sentence)\n",
    "total_words = len(words_one_per_sentence)\n",
    "\n",
    "no_sentences = len(only_words_txt)\n",
    "\n",
    "count_words = Counter(words_one_per_sentence)\n",
    "\n",
    "count_democratic_words = Counter()\n",
    "count_Republican_words = Counter()\n",
    "\n",
    "#Probability word and Democratic\n",
    "for s in range(len(only_words_txt)):\n",
    "    if political_aff[s] == 'Democratic':\n",
    "        for word in only_words_txt[s]:\n",
    "            count_democratic_words[word] += 1\n",
    "    if political_aff[s] == 'Republican':\n",
    "        for word in only_words_txt[s]:\n",
    "            count_Republican_words[word] += 1\n",
    "\n",
    "prob_words = {word : (count_words[word]/no_sentences) for word in count_words}\n",
    "            \n",
    "prob_democratic_words = {word : (count_democratic_words[word]/no_sentences) for word in count_democratic_words}\n",
    "prob_Republican_words = {word : (count_Republican_words[word]/no_sentences) for word in count_Republican_words}\n",
    "\n",
    "prob_democratic_sentences = sum([1 for i in political_aff if i == 'Democratic'])/no_sentences\n",
    "prob_republican_sentences = sum([1 for i in political_aff if i == 'Republican'])/no_sentences\n",
    "\n"
   ]
  },
  {
   "cell_type": "code",
   "execution_count": null,
   "metadata": {},
   "outputs": [],
   "source": [
    "#PMI for every word and Democrats\n",
    "PMI_Words_and_Democrats = sorted([(math.log(prob_democratic_words[word]/(prob_words[word]*prob_democratic_sentences)), word) \n",
    "                                  for word in prob_words \n",
    "                                  if word in prob_democratic_words and count_democratic_words[word] > 10], reverse = True)\n",
    "\n",
    "#PMI for every word and Republicans\n",
    "PMI_Words_and_Republicans = sorted([(math.log(prob_Republican_words[word]/(prob_words[word]*prob_republican_sentences)), word) \n",
    "                                    for word in prob_words \n",
    "                                    if word in prob_Republican_words and count_Republican_words[word] > 10], reverse = True)\n",
    "\n",
    "\n",
    "print(\"\\nWords with largest PMI's for Democrats:\")\n",
    "for i in range(50):\n",
    "    print(str(i+1) + '.', PMI_Words_and_Democrats[i][1] + ':', PMI_Words_and_Democrats[i][0])\n",
    "    \n",
    "print(\"\\nWords with largest PMI's for Republicans:\")\n",
    "for i in range(50):\n",
    "    print(str(i+1) + '.', PMI_Words_and_Republicans[i][1] + ':', PMI_Words_and_Republicans[i][0])"
   ]
  },
  {
   "cell_type": "markdown",
   "metadata": {},
   "source": [
    "Latent Dirichlet Allocation"
   ]
  },
  {
   "cell_type": "code",
   "execution_count": 26,
   "metadata": {},
   "outputs": [
    {
     "data": {
      "text/plain": [
       "14915"
      ]
     },
     "execution_count": 26,
     "metadata": {},
     "output_type": "execute_result"
    }
   ],
   "source": [
    "%matplotlib inline\n",
    "import matplotlib.pyplot as plt\n",
    "import numpy as np\n",
    "np.set_printoptions(precision=5, suppress=True)\n",
    "\n",
    "len (df_40)"
   ]
  },
  {
   "cell_type": "code",
   "execution_count": 37,
   "metadata": {},
   "outputs": [
    {
     "data": {
      "text/html": [
       "<div>\n",
       "<style scoped>\n",
       "    .dataframe tbody tr th:only-of-type {\n",
       "        vertical-align: middle;\n",
       "    }\n",
       "\n",
       "    .dataframe tbody tr th {\n",
       "        vertical-align: top;\n",
       "    }\n",
       "\n",
       "    .dataframe thead th {\n",
       "        text-align: right;\n",
       "    }\n",
       "</style>\n",
       "<table border=\"1\" class=\"dataframe\">\n",
       "  <thead>\n",
       "    <tr style=\"text-align: right;\">\n",
       "      <th></th>\n",
       "      <th>author_name</th>\n",
       "      <th>category</th>\n",
       "      <th>case_name</th>\n",
       "      <th>date_filed</th>\n",
       "      <th>year_filed</th>\n",
       "      <th>scdb_id</th>\n",
       "      <th>scdb_decision_direction</th>\n",
       "      <th>scdb_votes_majority</th>\n",
       "      <th>scdb_votes_minority</th>\n",
       "      <th>text</th>\n",
       "      <th>ChiefJustice</th>\n",
       "      <th>AppointedByPresident</th>\n",
       "      <th>JudicialOathTaken</th>\n",
       "      <th>DateServiceTerminated</th>\n",
       "      <th>POLITICAL PARTY</th>\n",
       "    </tr>\n",
       "  </thead>\n",
       "  <tbody>\n",
       "    <tr>\n",
       "      <th>2</th>\n",
       "      <td>Justice Breyer</td>\n",
       "      <td>dissenting</td>\n",
       "      <td>McCutcheon v. Federal Election Comm'n</td>\n",
       "      <td>2014-04-02</td>\n",
       "      <td>2014</td>\n",
       "      <td>2013-033</td>\n",
       "      <td>1.0</td>\n",
       "      <td>5.0</td>\n",
       "      <td>4.0</td>\n",
       "      <td>Nearly 40 years ago in Buckley v. Valeo, 424 U...</td>\n",
       "      <td>0.0</td>\n",
       "      <td>Clinton</td>\n",
       "      <td>1994-08-03</td>\n",
       "      <td>NaT</td>\n",
       "      <td>Democratic</td>\n",
       "    </tr>\n",
       "    <tr>\n",
       "      <th>3</th>\n",
       "      <td>Justice Kagan</td>\n",
       "      <td>majority</td>\n",
       "      <td>Kaley v. United States</td>\n",
       "      <td>2014-02-25</td>\n",
       "      <td>2014</td>\n",
       "      <td>NaN</td>\n",
       "      <td>NaN</td>\n",
       "      <td>NaN</td>\n",
       "      <td>NaN</td>\n",
       "      <td>A federal statute, 21 U.S. C. §853(e), authori...</td>\n",
       "      <td>0.0</td>\n",
       "      <td>Obama</td>\n",
       "      <td>2010-08-07</td>\n",
       "      <td>NaT</td>\n",
       "      <td>Democratic</td>\n",
       "    </tr>\n",
       "    <tr>\n",
       "      <th>5</th>\n",
       "      <td>Justice Rutledge</td>\n",
       "      <td>majority</td>\n",
       "      <td>Wisconsin Gas Co. v. United States</td>\n",
       "      <td>1944-06-05</td>\n",
       "      <td>1944</td>\n",
       "      <td>1943-100</td>\n",
       "      <td>2.0</td>\n",
       "      <td>8.0</td>\n",
       "      <td>0.0</td>\n",
       "      <td>Wisconsin Gas and Electric Company is a Wiscon...</td>\n",
       "      <td>0.0</td>\n",
       "      <td>Roosevelt, F.</td>\n",
       "      <td>1943-02-15</td>\n",
       "      <td>1949-09-10</td>\n",
       "      <td>Democratic</td>\n",
       "    </tr>\n",
       "  </tbody>\n",
       "</table>\n",
       "</div>"
      ],
      "text/plain": [
       "        author_name    category                              case_name  \\\n",
       "2    Justice Breyer  dissenting  McCutcheon v. Federal Election Comm'n   \n",
       "3     Justice Kagan    majority                 Kaley v. United States   \n",
       "5  Justice Rutledge    majority     Wisconsin Gas Co. v. United States   \n",
       "\n",
       "  date_filed  year_filed   scdb_id  scdb_decision_direction  \\\n",
       "2 2014-04-02        2014  2013-033                      1.0   \n",
       "3 2014-02-25        2014       NaN                      NaN   \n",
       "5 1944-06-05        1944  1943-100                      2.0   \n",
       "\n",
       "   scdb_votes_majority  scdb_votes_minority  \\\n",
       "2                  5.0                  4.0   \n",
       "3                  NaN                  NaN   \n",
       "5                  8.0                  0.0   \n",
       "\n",
       "                                                text  ChiefJustice  \\\n",
       "2  Nearly 40 years ago in Buckley v. Valeo, 424 U...           0.0   \n",
       "3  A federal statute, 21 U.S. C. §853(e), authori...           0.0   \n",
       "5  Wisconsin Gas and Electric Company is a Wiscon...           0.0   \n",
       "\n",
       "  AppointedByPresident JudicialOathTaken DateServiceTerminated POLITICAL PARTY  \n",
       "2              Clinton        1994-08-03                   NaT      Democratic  \n",
       "3                Obama        2010-08-07                   NaT      Democratic  \n",
       "5        Roosevelt, F.        1943-02-15            1949-09-10      Democratic  "
      ]
     },
     "execution_count": 37,
     "metadata": {},
     "output_type": "execute_result"
    }
   ],
   "source": [
    "df_D_40.head(3)\n"
   ]
  },
  {
   "cell_type": "code",
   "execution_count": 38,
   "metadata": {},
   "outputs": [],
   "source": [
    "vocab_size = 1000\n",
    "from sklearn.feature_extraction.text import CountVectorizer\n",
    "\n",
    "# CountVectorizer does tokenization and can remove terms that occur too frequently, not frequently enough, or that are stop words\n",
    "\n",
    "# document frequency (df) means number of documents a word appears in\n",
    "df_R_40 = df_40[df_40['category'] == 'majority']\n",
    "df_D_40 = df_40[df_40['category'] == 'majority']\n",
    "\n",
    "tf_vectorizer = CountVectorizer(max_df = 0.5, #discuss max_df, min_df \n",
    "                                min_df = 1,\n",
    "                                stop_words ='english',\n",
    "                                max_features = vocab_size)\n",
    "tf_R = tf_vectorizer.fit_transform(df_R_40[\"text\"]) #read text column only for republicans\n",
    "tf_D = tf_vectorizer.fit_transform(df_D_40[\"text\"]) #read text column only for democrats\n"
   ]
  },
  {
   "cell_type": "markdown",
   "metadata": {},
   "source": [
    "We now fit an LDA model to the data"
   ]
  },
  {
   "cell_type": "code",
   "execution_count": 39,
   "metadata": {},
   "outputs": [
    {
     "data": {
      "text/plain": [
       "LatentDirichletAllocation(random_state=0)"
      ]
     },
     "execution_count": 39,
     "metadata": {},
     "output_type": "execute_result"
    }
   ],
   "source": [
    "num_topics = 10 #discuss num_topics- how to pick this number \n",
    "\n",
    "from sklearn.decomposition import LatentDirichletAllocation\n",
    "lda_R = LatentDirichletAllocation(n_components=num_topics, random_state=0)\n",
    "lda_D = LatentDirichletAllocation(n_components=num_topics, random_state=0)\n",
    "\n",
    "lda_R.fit(tf_R)\n",
    "lda_D.fit(tf_D)"
   ]
  },
  {
   "cell_type": "code",
   "execution_count": null,
   "metadata": {},
   "outputs": [],
   "source": [
    "topic_word_distributions_R = np.array([row / row.sum() for row in lda_R.components_])\n",
    "topic_word_distributions_D = np.array([row / row.sum() for row in lda_D.components_])"
   ]
  },
  {
   "cell_type": "code",
   "execution_count": null,
   "metadata": {},
   "outputs": [],
   "source": [
    "num_top_words = 10 #double check \n",
    "\n",
    "def print_top_words(topic_word_distributions, num_top_words, vectorizer):\n",
    "    vocab = vectorizer.get_feature_names()\n",
    "    num_topics = len(topic_word_distributions)\n",
    "    print('Displaying the top %d words per topic and their probabilities within the topic...' % num_top_words)\n",
    "    print()\n",
    "\n",
    "    for topic_idx in range(num_topics):\n",
    "        print('[Topic ', topic_idx, ']', sep='')\n",
    "        sort_indices = np.argsort(-topic_word_distributions[topic_idx])\n",
    "        for rank in range(num_top_words):\n",
    "            word_idx = sort_indices[rank]\n",
    "            print(vocab[word_idx], ':',\n",
    "                  topic_word_distributions[topic_idx, word_idx])\n",
    "        print()\n",
    "\n",
    "print_top_words(topic_word_distributions, num_top_words, tf_vectorizer)"
   ]
  },
  {
   "cell_type": "code",
   "execution_count": null,
   "metadata": {},
   "outputs": [],
   "source": [
    "doc_topic_matrix = lda.transform(tf)"
   ]
  },
  {
   "cell_type": "code",
   "execution_count": null,
   "metadata": {},
   "outputs": [],
   "source": [
    "doc_topic_matrix.shape"
   ]
  },
  {
   "cell_type": "code",
   "execution_count": null,
   "metadata": {},
   "outputs": [],
   "source": [
    "doc_topic_matrix[0]"
   ]
  },
  {
   "cell_type": "code",
   "execution_count": null,
   "metadata": {},
   "outputs": [],
   "source": [
    "# pip install https://github.com/sulunemre/word_cloud/releases/download/2/wordcloud-0.post1+gd8241b5-cp39-cp39-win_amd64.whl"
   ]
  },
  {
   "cell_type": "code",
   "execution_count": null,
   "metadata": {},
   "outputs": [],
   "source": [
    "from wordcloud import WordCloud\n",
    "\n",
    "num_max_word_cloud_words = 100\n",
    "\n",
    "vocab = tf_vectorizer.get_feature_names()\n",
    "num_topics = len(topic_word_distributions_R)\n",
    "\n",
    "for topic_idx in range(num_topics):\n",
    "    wc = WordCloud(max_words=num_max_word_cloud_words)\n",
    "    wc.generate_from_frequencies(dict(zip(vocab, topic_word_distributions_R[topic_idx])))\n",
    "    plt.figure()\n",
    "    plt.imshow(wc, interpolation='bilinear')\n",
    "    plt.title('Topic %d' % topic_idx)"
   ]
  },
  {
   "cell_type": "markdown",
   "metadata": {},
   "source": [
    "#### Topic 9 - employer and labour\n",
    "#### Topic 8 - school board, education\n",
    "#### Topic 7 - death penalty and crime\n",
    "#### Topic 1 - tax and corporation¶"
   ]
  },
  {
   "cell_type": "code",
   "execution_count": null,
   "metadata": {},
   "outputs": [],
   "source": [
    "lsa_300_df = pd.concat(\n",
    "    [\n",
    "        df_40[['author_name','year_filed','case_name', 'category']].reset_index(drop=True), \n",
    "        pd.DataFrame(doc_topic_matrix)\n",
    "    ],\n",
    "    axis=1)\n",
    "\n",
    "lsa_300_df.head()"
   ]
  },
  {
   "cell_type": "code",
   "execution_count": null,
   "metadata": {},
   "outputs": [],
   "source": [
    "lda_df = pd.concat(\n",
    "    [\n",
    "        df_40[['author_name','year_filed','case_name', 'category']].reset_index(drop=True), \n",
    "        pd.DataFrame(doc_topic_matrix)\n",
    "    ],\n",
    "    axis=1)\n",
    "\n",
    "lda_by_year = lda_df[['year_filed'] + list(range(num_topics))].groupby('year_filed').agg('mean')\n",
    "lda_by_year.head()"
   ]
  },
  {
   "cell_type": "code",
   "execution_count": null,
   "metadata": {},
   "outputs": [],
   "source": [
    "x = lda_by_year.index[1:-1]\n",
    "plt.figure(figsize=(14,10))\n",
    "\n",
    "for feature in [1,3,7,8,9]:\n",
    "    y_vals = list(lda_by_year[feature-1])\n",
    "    y = [(y_vals[j] + y_vals[j-1] + y_vals[j+1])/3 for j in range(1, len(y_vals)-1)] # rolling mean for smoothing\n",
    "    plt.plot(x,y)\n",
    "plt.legend(labels=[\n",
    "    'taxes and corporation',\n",
    "    'death penalty and crime',\n",
    "    'school board and education',\n",
    "    'employer and labour'\n",
    "])  \n",
    "plt.title(\"Topic prominence in SCOTUS opinions over time\")\n",
    "plt.show()"
   ]
  },
  {
   "cell_type": "code",
   "execution_count": null,
   "metadata": {},
   "outputs": [],
   "source": [
    "import seaborn as sns\n",
    "temporal_sequence = df_40.groupby('author_name').agg('mean').year_filed.sort_values().index\n",
    "corr_df = lsa_300_df.drop('category', axis=1).groupby('author_name').agg('mean').T.corr()\n",
    "typicality = corr_df.sum(axis=1)\n",
    "\n",
    "mask = np.zeros_like(corr_df, dtype=np.bool_)\n",
    "mask[np.triu_indices_from(mask)] = True\n",
    "sns.set(style=\"white\")"
   ]
  },
  {
   "cell_type": "code",
   "execution_count": null,
   "metadata": {},
   "outputs": [],
   "source": [
    "plt.figure(figsize=(30,30))\n",
    "sns.heatmap(\n",
    "    lsa_300_df.drop('category', axis=1).groupby('author_name').agg('mean').T.corr().loc[\n",
    "        temporal_sequence, temporal_sequence\n",
    "    ],\n",
    "    square=True,\n",
    "    mask=mask\n",
    ")\n",
    "plt.title(\"Similarity heatmap of averaged LSA opinion vector for each justice (by year)\")\n",
    "plt.show()"
   ]
  },
  {
   "cell_type": "code",
   "execution_count": null,
   "metadata": {},
   "outputs": [],
   "source": [
    "lsa_300_df2 = pd.concat(\n",
    "    [\n",
    "        df_40[['author_name','year_filed','case_name', 'category', 'POLITICAL PARTY']].reset_index(drop=True), \n",
    "        pd.DataFrame(doc_topic_matrix)\n",
    "    ],\n",
    "    axis=1)\n",
    "\n",
    "lsa_300_df2.head()"
   ]
  },
  {
   "cell_type": "code",
   "execution_count": null,
   "metadata": {},
   "outputs": [],
   "source": [
    "lda_by_pp = lsa_300_df2[['POLITICAL PARTY'] + list(range(num_topics))].groupby('POLITICAL PARTY').agg('mean')\n",
    "lda_by_pp.head()"
   ]
  },
  {
   "cell_type": "code",
   "execution_count": null,
   "metadata": {},
   "outputs": [],
   "source": []
  }
 ],
 "metadata": {
  "interpreter": {
   "hash": "1a121e43199d68748eed0edd666353fd2b74e9fbbe110851704ea712f38100b8"
  },
  "kernelspec": {
   "display_name": "Python 3 (ipykernel)",
   "language": "python",
   "name": "python3"
  },
  "language_info": {
   "codemirror_mode": {
    "name": "ipython",
    "version": 3
   },
   "file_extension": ".py",
   "mimetype": "text/x-python",
   "name": "python",
   "nbconvert_exporter": "python",
   "pygments_lexer": "ipython3",
   "version": "3.9.7"
  }
 },
 "nbformat": 4,
 "nbformat_minor": 4
}
