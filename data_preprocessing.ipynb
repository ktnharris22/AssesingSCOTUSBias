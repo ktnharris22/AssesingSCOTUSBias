{
 "cells": [
  {
   "cell_type": "code",
   "execution_count": 4,
   "metadata": {},
   "outputs": [
    {
     "name": "stdout",
     "output_type": "stream",
     "text": [
      "(14924, 11)\n",
      "author_name                        object\n",
      "category                           object\n",
      "case_name                          object\n",
      "date_filed                 datetime64[ns]\n",
      "year_filed                          int64\n",
      "scdb_id                            object\n",
      "scdb_decision_direction           float64\n",
      "scdb_votes_majority               float64\n",
      "scdb_votes_minority               float64\n",
      "text                               object\n",
      "author_lastname                    object\n",
      "dtype: object\n"
     ]
    },
    {
     "data": {
      "text/html": [
       "<div>\n",
       "<style scoped>\n",
       "    .dataframe tbody tr th:only-of-type {\n",
       "        vertical-align: middle;\n",
       "    }\n",
       "\n",
       "    .dataframe tbody tr th {\n",
       "        vertical-align: top;\n",
       "    }\n",
       "\n",
       "    .dataframe thead th {\n",
       "        text-align: right;\n",
       "    }\n",
       "</style>\n",
       "<table border=\"1\" class=\"dataframe\">\n",
       "  <thead>\n",
       "    <tr style=\"text-align: right;\">\n",
       "      <th></th>\n",
       "      <th>author_name</th>\n",
       "      <th>category</th>\n",
       "      <th>case_name</th>\n",
       "      <th>date_filed</th>\n",
       "      <th>year_filed</th>\n",
       "      <th>scdb_id</th>\n",
       "      <th>scdb_decision_direction</th>\n",
       "      <th>scdb_votes_majority</th>\n",
       "      <th>scdb_votes_minority</th>\n",
       "      <th>text</th>\n",
       "      <th>author_lastname</th>\n",
       "    </tr>\n",
       "  </thead>\n",
       "  <tbody>\n",
       "    <tr>\n",
       "      <th>0</th>\n",
       "      <td>Justice Roberts</td>\n",
       "      <td>majority</td>\n",
       "      <td>McCutcheon v. Federal Election Comm'n</td>\n",
       "      <td>2014-04-02</td>\n",
       "      <td>2014</td>\n",
       "      <td>2013-033</td>\n",
       "      <td>1.0</td>\n",
       "      <td>5.0</td>\n",
       "      <td>4.0</td>\n",
       "      <td>There is no right more basic in our democracy ...</td>\n",
       "      <td>Roberts</td>\n",
       "    </tr>\n",
       "    <tr>\n",
       "      <th>1</th>\n",
       "      <td>Justice Thomas</td>\n",
       "      <td>concurring</td>\n",
       "      <td>McCutcheon v. Federal Election Comm'n</td>\n",
       "      <td>2014-04-02</td>\n",
       "      <td>2014</td>\n",
       "      <td>2013-033</td>\n",
       "      <td>1.0</td>\n",
       "      <td>5.0</td>\n",
       "      <td>4.0</td>\n",
       "      <td>I adhere to the view that this Court’s decisio...</td>\n",
       "      <td>Thomas</td>\n",
       "    </tr>\n",
       "    <tr>\n",
       "      <th>2</th>\n",
       "      <td>Justice Breyer</td>\n",
       "      <td>dissenting</td>\n",
       "      <td>McCutcheon v. Federal Election Comm'n</td>\n",
       "      <td>2014-04-02</td>\n",
       "      <td>2014</td>\n",
       "      <td>2013-033</td>\n",
       "      <td>1.0</td>\n",
       "      <td>5.0</td>\n",
       "      <td>4.0</td>\n",
       "      <td>Nearly 40 years ago in Buckley v. Valeo, 424 U...</td>\n",
       "      <td>Breyer</td>\n",
       "    </tr>\n",
       "  </tbody>\n",
       "</table>\n",
       "</div>"
      ],
      "text/plain": [
       "       author_name    category                              case_name  \\\n",
       "0  Justice Roberts    majority  McCutcheon v. Federal Election Comm'n   \n",
       "1   Justice Thomas  concurring  McCutcheon v. Federal Election Comm'n   \n",
       "2   Justice Breyer  dissenting  McCutcheon v. Federal Election Comm'n   \n",
       "\n",
       "  date_filed  year_filed   scdb_id  scdb_decision_direction  \\\n",
       "0 2014-04-02        2014  2013-033                      1.0   \n",
       "1 2014-04-02        2014  2013-033                      1.0   \n",
       "2 2014-04-02        2014  2013-033                      1.0   \n",
       "\n",
       "   scdb_votes_majority  scdb_votes_minority  \\\n",
       "0                  5.0                  4.0   \n",
       "1                  5.0                  4.0   \n",
       "2                  5.0                  4.0   \n",
       "\n",
       "                                                text author_lastname  \n",
       "0  There is no right more basic in our democracy ...         Roberts  \n",
       "1  I adhere to the view that this Court’s decisio...          Thomas  \n",
       "2  Nearly 40 years ago in Buckley v. Valeo, 424 U...          Breyer  "
      ]
     },
     "execution_count": 4,
     "metadata": {},
     "output_type": "execute_result"
    }
   ],
   "source": [
    "import pandas as pd\n",
    "import numpy as np\n",
    "\n",
    "df_40 = pd.read_csv(\"Data/all_opinions_1940.csv\")\n",
    "df_40['date_filed'] = df_40['date_filed'].apply(pd.to_datetime, errors='coerce')\n",
    "df_40['author_lastname'] = df_40.author_name.apply(lambda x: x.split(\" \")[-1]) #get last name of each justice\n",
    "df_40['author_lastname'] = np.where((df_40['author_lastname'] == 'Roberts') & (df_40['year_filed']<2005), 'Roberts, O.', df_40['author_lastname'])\n",
    "df_40 = df_40[df_40['per_curiam']==False] # per curiam opinions are opinions the court deemed to be so straightforward there is no named author\n",
    "df_40 = df_40.drop(columns=['Unnamed: 0','federal_cite_one','absolute_url','cluster','per_curiam'])\n",
    "\n",
    "print(df_40.shape)\n",
    "print(df_40.dtypes)\n",
    "df_40.head(3)"
   ]
  },
  {
   "cell_type": "code",
   "execution_count": 5,
   "metadata": {},
   "outputs": [
    {
     "name": "stdout",
     "output_type": "stream",
     "text": [
      "(44, 6)\n",
      "ChiefJustice                    float64\n",
      "Name                             object\n",
      "AppointedByPresident             object\n",
      "JudicialOathTaken        datetime64[ns]\n",
      "DateServiceTerminated    datetime64[ns]\n",
      "JusticeLastName                  object\n",
      "dtype: object\n"
     ]
    }
   ],
   "source": [
    "from datetime import datetime\n",
    "df_justice = pd.read_csv(\"./Data/JusticeData.csv\")\n",
    "df_justice = df_justice.drop(columns=['StateApptFrom'])\n",
    "df_justice['JusticeLastName'] = df_justice.Name.apply(lambda x: x.split(\",\")[0]) #get last name of each justice\n",
    "df_justice[['DateServiceTerminated','JudicialOathTaken']] = df_justice[['DateServiceTerminated','JudicialOathTaken']].apply(pd.to_datetime, errors='coerce')\n",
    "df_justice['JusticeLastName'] = np.where((df_justice['JusticeLastName'] == 'Roberts') & (df_justice['DateServiceTerminated']<datetime.strptime('January 1, 2005', '%B %d, %Y')), 'Roberts, O.', df_justice['JusticeLastName'])\n",
    "df_justice = df_justice[(df_justice['DateServiceTerminated'] >= datetime.strptime('January 1, 1940', '%B %d, %Y')) | (df_justice['DateServiceTerminated'].isna()==True)]\n",
    "df_justice = df_justice.drop_duplicates(subset='Name', keep='first')\n",
    "df_justice.fillna({'ChiefJustice': 0}, inplace=True)\n",
    "\n",
    "print(df_justice.shape)\n",
    "print(df_justice.dtypes)"
   ]
  },
  {
   "cell_type": "code",
   "execution_count": 6,
   "metadata": {},
   "outputs": [
    {
     "name": "stdout",
     "output_type": "stream",
     "text": [
      "(45, 2)\n",
      "PRESIDENT          object\n",
      "POLITICAL PARTY    object\n",
      "dtype: object\n"
     ]
    }
   ],
   "source": [
    "df_presidents = pd.read_csv(\"./Data/PresidentialParty.csv\",usecols=['PRESIDENT','POLITICAL PARTY'])\n",
    "print(df_presidents.shape)\n",
    "print(df_presidents.dtypes)\n",
    "\n",
    "df_presidents['LastName'] = df_presidents['PRESIDENT'].apply(lambda x: x.split(\" \")[-1]) #get last name of each pres\n",
    "df_presidents.loc[41, 'LastName'] = 'Bush, G. W.' #deal with weird cases of same last name \n",
    "df_presidents.loc[39, 'LastName'] = 'Bush, G. H. W.' \n",
    "df_presidents.loc[34, 'LastName'] = 'Johnson, L.'\n",
    "df_presidents.loc[30, 'LastName'] = 'Roosevelt, F.'\n",
    "df_presidents.loc[24, 'LastName'] = 'Roosevelt, T.'\n",
    "df_presidents.loc[8, 'LastName'] = 'Harrison, W. H.'  \n",
    "df_presidents.loc[5, 'LastName'] = 'Adams, J. Q.'\n",
    "df_presidents.loc[1, 'LastName'] = 'Adams, J.'  "
   ]
  },
  {
   "cell_type": "code",
   "execution_count": 7,
   "metadata": {},
   "outputs": [],
   "source": [
    "df_justice.AppointedByPresident = df_justice.AppointedByPresident.astype(str)\n",
    "df_presidents.LastName = df_presidents.LastName.astype(str)\n",
    "df_justice = df_justice.merge(df_presidents, left_on='AppointedByPresident', right_on='LastName', how='left').drop(columns=['PRESIDENT','LastName'])\n",
    "df_40 = df_40.merge(df_justice, left_on='author_lastname', right_on='JusticeLastName', how=\"left\").drop(columns=['author_lastname','JusticeLastName','Name'])"
   ]
  },
  {
   "cell_type": "code",
   "execution_count": 8,
   "metadata": {},
   "outputs": [
    {
     "data": {
      "text/html": [
       "<div>\n",
       "<style scoped>\n",
       "    .dataframe tbody tr th:only-of-type {\n",
       "        vertical-align: middle;\n",
       "    }\n",
       "\n",
       "    .dataframe tbody tr th {\n",
       "        vertical-align: top;\n",
       "    }\n",
       "\n",
       "    .dataframe thead th {\n",
       "        text-align: right;\n",
       "    }\n",
       "</style>\n",
       "<table border=\"1\" class=\"dataframe\">\n",
       "  <thead>\n",
       "    <tr style=\"text-align: right;\">\n",
       "      <th></th>\n",
       "      <th>author_name</th>\n",
       "      <th>category</th>\n",
       "      <th>case_name</th>\n",
       "      <th>date_filed</th>\n",
       "      <th>year_filed</th>\n",
       "      <th>scdb_id</th>\n",
       "      <th>scdb_decision_direction</th>\n",
       "      <th>scdb_votes_majority</th>\n",
       "      <th>scdb_votes_minority</th>\n",
       "      <th>text</th>\n",
       "      <th>ChiefJustice</th>\n",
       "      <th>AppointedByPresident</th>\n",
       "      <th>JudicialOathTaken</th>\n",
       "      <th>DateServiceTerminated</th>\n",
       "      <th>POLITICAL PARTY</th>\n",
       "    </tr>\n",
       "  </thead>\n",
       "  <tbody>\n",
       "    <tr>\n",
       "      <th>52</th>\n",
       "      <td>Justice Holmes</td>\n",
       "      <td>majority</td>\n",
       "      <td>Aikens v. Wisconsin</td>\n",
       "      <td>2005-03-04</td>\n",
       "      <td>2005</td>\n",
       "      <td>NaN</td>\n",
       "      <td>NaN</td>\n",
       "      <td>NaN</td>\n",
       "      <td>NaN</td>\n",
       "      <td>These are three writs of error to the Supreme ...</td>\n",
       "      <td>NaN</td>\n",
       "      <td>NaN</td>\n",
       "      <td>NaT</td>\n",
       "      <td>NaT</td>\n",
       "      <td>NaN</td>\n",
       "    </tr>\n",
       "    <tr>\n",
       "      <th>460</th>\n",
       "      <td>Justice Woods</td>\n",
       "      <td>majority</td>\n",
       "      <td>Quebec Bank of Toronto v. Hellman</td>\n",
       "      <td>2007-01-04</td>\n",
       "      <td>2007</td>\n",
       "      <td>NaN</td>\n",
       "      <td>NaN</td>\n",
       "      <td>NaN</td>\n",
       "      <td>NaN</td>\n",
       "      <td>The record discloses the following facts: Geor...</td>\n",
       "      <td>NaN</td>\n",
       "      <td>NaN</td>\n",
       "      <td>NaT</td>\n",
       "      <td>NaT</td>\n",
       "      <td>NaN</td>\n",
       "    </tr>\n",
       "    <tr>\n",
       "      <th>2096</th>\n",
       "      <td>Justice O2122</td>\n",
       "      <td>concurring</td>\n",
       "      <td>Peguero v. United States</td>\n",
       "      <td>1999-03-03</td>\n",
       "      <td>1999</td>\n",
       "      <td>1998-026</td>\n",
       "      <td>1.0</td>\n",
       "      <td>9.0</td>\n",
       "      <td>0.0</td>\n",
       "      <td>I join the opinion of the Court, and I write s...</td>\n",
       "      <td>NaN</td>\n",
       "      <td>NaN</td>\n",
       "      <td>NaT</td>\n",
       "      <td>NaT</td>\n",
       "      <td>NaN</td>\n",
       "    </tr>\n",
       "    <tr>\n",
       "      <th>2211</th>\n",
       "      <td>Justice O2122</td>\n",
       "      <td>dissenting</td>\n",
       "      <td>Federal Employees v. Department of Interior</td>\n",
       "      <td>1999-03-03</td>\n",
       "      <td>1999</td>\n",
       "      <td>1998-030</td>\n",
       "      <td>2.0</td>\n",
       "      <td>5.0</td>\n",
       "      <td>4.0</td>\n",
       "      <td>The Court today ignores the plain meaning of t...</td>\n",
       "      <td>NaN</td>\n",
       "      <td>NaN</td>\n",
       "      <td>NaT</td>\n",
       "      <td>NaT</td>\n",
       "      <td>NaN</td>\n",
       "    </tr>\n",
       "    <tr>\n",
       "      <th>5491</th>\n",
       "      <td>Justice Waite</td>\n",
       "      <td>majority</td>\n",
       "      <td>Ames v. Kansas Ex Rel. Johnston</td>\n",
       "      <td>2010-03-07</td>\n",
       "      <td>2010</td>\n",
       "      <td>NaN</td>\n",
       "      <td>NaN</td>\n",
       "      <td>NaN</td>\n",
       "      <td>NaN</td>\n",
       "      <td>He stated the facts in the foregoing language,...</td>\n",
       "      <td>NaN</td>\n",
       "      <td>NaN</td>\n",
       "      <td>NaT</td>\n",
       "      <td>NaT</td>\n",
       "      <td>NaN</td>\n",
       "    </tr>\n",
       "    <tr>\n",
       "      <th>6514</th>\n",
       "      <td>Justice Or</td>\n",
       "      <td>concurring</td>\n",
       "      <td>Yates v. United States</td>\n",
       "      <td>1957-06-17</td>\n",
       "      <td>1957</td>\n",
       "      <td>1956-113</td>\n",
       "      <td>2.0</td>\n",
       "      <td>6.0</td>\n",
       "      <td>1.0</td>\n",
       "      <td>Apparently what disturbs the Court now is that...</td>\n",
       "      <td>NaN</td>\n",
       "      <td>NaN</td>\n",
       "      <td>NaT</td>\n",
       "      <td>NaT</td>\n",
       "      <td>NaN</td>\n",
       "    </tr>\n",
       "    <tr>\n",
       "      <th>6703</th>\n",
       "      <td>Justice Connor</td>\n",
       "      <td>dissenting</td>\n",
       "      <td>Swidler &amp; Berlin v. United States</td>\n",
       "      <td>1998-06-25</td>\n",
       "      <td>1998</td>\n",
       "      <td>1997-094</td>\n",
       "      <td>2.0</td>\n",
       "      <td>6.0</td>\n",
       "      <td>3.0</td>\n",
       "      <td>Although the attorney-client privilege ordinar...</td>\n",
       "      <td>NaN</td>\n",
       "      <td>NaN</td>\n",
       "      <td>NaT</td>\n",
       "      <td>NaT</td>\n",
       "      <td>NaN</td>\n",
       "    </tr>\n",
       "    <tr>\n",
       "      <th>8398</th>\n",
       "      <td>Justice And</td>\n",
       "      <td>concurring</td>\n",
       "      <td>Moseley v. Electronic &amp; Missile Facilities, Inc.</td>\n",
       "      <td>1963-06-17</td>\n",
       "      <td>1963</td>\n",
       "      <td>1962-146</td>\n",
       "      <td>2.0</td>\n",
       "      <td>8.0</td>\n",
       "      <td>1.0</td>\n",
       "      <td>We agree with the Court that fraud in the proc...</td>\n",
       "      <td>NaN</td>\n",
       "      <td>NaN</td>\n",
       "      <td>NaT</td>\n",
       "      <td>NaT</td>\n",
       "      <td>NaN</td>\n",
       "    </tr>\n",
       "    <tr>\n",
       "      <th>9627</th>\n",
       "      <td>Justice Fuller</td>\n",
       "      <td>majority</td>\n",
       "      <td>Fisher v. Baker</td>\n",
       "      <td>2010-10-09</td>\n",
       "      <td>2010</td>\n",
       "      <td>1906-017</td>\n",
       "      <td>1.0</td>\n",
       "      <td>8.0</td>\n",
       "      <td>0.0</td>\n",
       "      <td>Application for the writ of habeas corpus was ...</td>\n",
       "      <td>NaN</td>\n",
       "      <td>NaN</td>\n",
       "      <td>NaT</td>\n",
       "      <td>NaT</td>\n",
       "      <td>NaN</td>\n",
       "    </tr>\n",
       "  </tbody>\n",
       "</table>\n",
       "</div>"
      ],
      "text/plain": [
       "         author_name    category  \\\n",
       "52    Justice Holmes    majority   \n",
       "460    Justice Woods    majority   \n",
       "2096   Justice O2122  concurring   \n",
       "2211   Justice O2122  dissenting   \n",
       "5491   Justice Waite    majority   \n",
       "6514      Justice Or  concurring   \n",
       "6703  Justice Connor  dissenting   \n",
       "8398     Justice And  concurring   \n",
       "9627  Justice Fuller    majority   \n",
       "\n",
       "                                             case_name date_filed  year_filed  \\\n",
       "52                                 Aikens v. Wisconsin 2005-03-04        2005   \n",
       "460                  Quebec Bank of Toronto v. Hellman 2007-01-04        2007   \n",
       "2096                          Peguero v. United States 1999-03-03        1999   \n",
       "2211       Federal Employees v. Department of Interior 1999-03-03        1999   \n",
       "5491                   Ames v. Kansas Ex Rel. Johnston 2010-03-07        2010   \n",
       "6514                            Yates v. United States 1957-06-17        1957   \n",
       "6703                 Swidler & Berlin v. United States 1998-06-25        1998   \n",
       "8398  Moseley v. Electronic & Missile Facilities, Inc. 1963-06-17        1963   \n",
       "9627                                   Fisher v. Baker 2010-10-09        2010   \n",
       "\n",
       "       scdb_id  scdb_decision_direction  scdb_votes_majority  \\\n",
       "52         NaN                      NaN                  NaN   \n",
       "460        NaN                      NaN                  NaN   \n",
       "2096  1998-026                      1.0                  9.0   \n",
       "2211  1998-030                      2.0                  5.0   \n",
       "5491       NaN                      NaN                  NaN   \n",
       "6514  1956-113                      2.0                  6.0   \n",
       "6703  1997-094                      2.0                  6.0   \n",
       "8398  1962-146                      2.0                  8.0   \n",
       "9627  1906-017                      1.0                  8.0   \n",
       "\n",
       "      scdb_votes_minority                                               text  \\\n",
       "52                    NaN  These are three writs of error to the Supreme ...   \n",
       "460                   NaN  The record discloses the following facts: Geor...   \n",
       "2096                  0.0  I join the opinion of the Court, and I write s...   \n",
       "2211                  4.0  The Court today ignores the plain meaning of t...   \n",
       "5491                  NaN  He stated the facts in the foregoing language,...   \n",
       "6514                  1.0  Apparently what disturbs the Court now is that...   \n",
       "6703                  3.0  Although the attorney-client privilege ordinar...   \n",
       "8398                  1.0  We agree with the Court that fraud in the proc...   \n",
       "9627                  0.0  Application for the writ of habeas corpus was ...   \n",
       "\n",
       "      ChiefJustice AppointedByPresident JudicialOathTaken  \\\n",
       "52             NaN                  NaN               NaT   \n",
       "460            NaN                  NaN               NaT   \n",
       "2096           NaN                  NaN               NaT   \n",
       "2211           NaN                  NaN               NaT   \n",
       "5491           NaN                  NaN               NaT   \n",
       "6514           NaN                  NaN               NaT   \n",
       "6703           NaN                  NaN               NaT   \n",
       "8398           NaN                  NaN               NaT   \n",
       "9627           NaN                  NaN               NaT   \n",
       "\n",
       "     DateServiceTerminated POLITICAL PARTY  \n",
       "52                     NaT             NaN  \n",
       "460                    NaT             NaN  \n",
       "2096                   NaT             NaN  \n",
       "2211                   NaT             NaN  \n",
       "5491                   NaT             NaN  \n",
       "6514                   NaT             NaN  \n",
       "6703                   NaT             NaN  \n",
       "8398                   NaT             NaN  \n",
       "9627                   NaT             NaN  "
      ]
     },
     "execution_count": 8,
     "metadata": {},
     "output_type": "execute_result"
    }
   ],
   "source": [
    "df_40[df_40['POLITICAL PARTY'].isna() == True] #Opinions from 1940 onwards"
   ]
  },
  {
   "cell_type": "code",
   "execution_count": 7,
   "metadata": {},
   "outputs": [],
   "source": [
    "#Text field is the opinion\n",
    "#important: Authorname, case_name, category, date_filed,"
   ]
  },
  {
   "cell_type": "markdown",
   "metadata": {},
   "source": [
    "## Transforming Data\n",
    "\n",
    "We are going to create lists of the authors of every case and their political affiliation. "
   ]
  },
  {
   "cell_type": "code",
   "execution_count": 9,
   "metadata": {},
   "outputs": [],
   "source": [
    "authors = df_40['author_name']\n",
    "category = df_40['category']\n",
    "case_name = df_40['case_name']\n",
    "year = df_40['year_filed']\n",
    "political_aff = df_40['POLITICAL PARTY']\n",
    "case_txt = df_40['text']\n",
    "case_id = df_40['scdb_id']"
   ]
  },
  {
   "cell_type": "markdown",
   "metadata": {},
   "source": [
    "* We are going to create a list of lists that have the words of the cases"
   ]
  },
  {
   "cell_type": "code",
   "execution_count": 10,
   "metadata": {},
   "outputs": [],
   "source": [
    "import re\n",
    "\n",
    "stop_words = ['..','__','___','___','_','-','--','there','.',';',':','the','to','in','rt','of','a', 'for','and','is','on','amp','you','i','at','will','our','we','be','with','that','it','this','are','https','s','have','by','from','has','all','as','not','was','out','t','your','my','who','her','me','he','about','so','make','just''2','w','she','they','us','his','if','up','again','an','what','one','no','here','but','can','last','than','were','do','would','been','am','http','had','when','made','them','or','there','another','isil','aumf','youre']\n",
    "w_txt = [sentence.lower().split() for sentence in case_txt] #CHANGE AT THE END!!!\n",
    "\n",
    "words_txt = [[word for word in k if word not in stop_words \n",
    "            and re.match('[a-zA-Z]+$', word)] for k in w_txt]"
   ]
  },
  {
   "cell_type": "markdown",
   "metadata": {
    "tags": []
   },
   "source": [
    "* Let's see the frequency of the words"
   ]
  },
  {
   "cell_type": "code",
   "execution_count": 11,
   "metadata": {},
   "outputs": [],
   "source": [
    "words = [word for sentence in words_txt for word in sentence]\n",
    "\n",
    "from collections import Counter\n",
    "\n",
    "freq = Counter(words)\n",
    "f = sorted([(freq[k],k) for k in freq], reverse = True)"
   ]
  },
  {
   "cell_type": "code",
   "execution_count": 12,
   "metadata": {
    "tags": []
   },
   "outputs": [
    {
     "data": {
      "image/png": "[encoded data removed]",
      "text/plain": [
       "<Figure size 1080x576 with 1 Axes>"
      ]
     },
     "metadata": {
      "needs_background": "light"
     },
     "output_type": "display_data"
    }
   ],
   "source": [
    "import matplotlib.pyplot as plt\n",
    "\n",
    "fr = f[:50]\n",
    "w_w = [k for v,k in fr]\n",
    "f_w = [v for v,k in fr]\n",
    "plt.figure(figsize=(15, 8))\n",
    "plt.bar(w_w,f_w)\n",
    "plt.ylabel(\"Frequency (#)\")\n",
    "plt.title(\"Words\")\n",
    "plt.xticks(rotation=90)\n",
    "plt.show()"
   ]
  },
  {
   "cell_type": "markdown",
   "metadata": {},
   "source": [
    "* Let's differentiate between Republicans and Democrats"
   ]
  },
  {
   "cell_type": "code",
   "execution_count": 13,
   "metadata": {
    "tags": []
   },
   "outputs": [],
   "source": [
    "l = range(len(political_aff))\n",
    "\n",
    "## DEMOCRATS\n",
    "\n",
    "authors_D = [authors[i] for i in l if political_aff[i] == 'Democratic']\n",
    "category_D = [category[i] for i in l if political_aff[i] == 'Democratic']\n",
    "case_name_D = [case_name[i] for i in l if political_aff[i] == 'Democratic']\n",
    "year_D = [year[i] for i in l if political_aff[i] == 'Democratic']\n",
    "political_aff_D = [political_aff[i] for i in l if political_aff[i] == 'Democratic']\n",
    "case_txt_D = [case_txt[i] for i in l if political_aff[i] == 'Democratic']\n",
    "case_id_D = [case_id[i] for i in l if political_aff[i] == 'Democratic']\n",
    "words_txt_D = [words_txt[i] for i in l if political_aff[i] == 'Democratic']\n",
    "\n",
    "words_D = [word for sentence in words_txt_D for word in sentence]\n",
    "freq_D = Counter(words_D)\n",
    "f_D = sorted([(freq_D[k],k) for k in freq_D], reverse = True)\n",
    "w_w_D = [k for v,k in f_D]\n",
    "f_w_D = [v for v,k in f_D]\n",
    "\n",
    "## REPUBLICANS\n",
    "\n",
    "authors_R = [authors[i] for i in l if political_aff[i] == 'Republican']\n",
    "category_R = [category[i] for i in l if political_aff[i] == 'Republican']\n",
    "case_name_R = [case_name[i] for i in l if political_aff[i] == 'Republican']\n",
    "year_R = [year[i] for i in l if political_aff[i] == 'Republican']\n",
    "political_aff_R = [political_aff[i] for i in l if political_aff[i] == 'Republican']\n",
    "case_txt_R = [case_txt[i] for i in l if political_aff[i] == 'Republican']\n",
    "case_id_R = [case_id[i] for i in l if political_aff[i] == 'Republican']\n",
    "words_txt_R = [words_txt[i] for i in l if political_aff[i] == 'Republican']\n",
    "\n",
    "words_R = [word for sentence in words_txt_R for word in sentence]\n",
    "freq_R = Counter(words_R)\n",
    "f_R = sorted([(freq_R[k],k) for k in freq_R], reverse = True)\n",
    "w_w_R = [k for v,k in f_R]\n",
    "f_w_R = [v for v,k in f_R]"
   ]
  },
  {
   "cell_type": "markdown",
   "metadata": {},
   "source": [
    "* Frequency of words for each Democratic and Republican party"
   ]
  },
  {
   "cell_type": "code",
   "execution_count": 14,
   "metadata": {},
   "outputs": [
    {
     "data": {
      "image/png": "[encoded data removed]",
      "text/plain": [
       "<Figure size 1080x576 with 1 Axes>"
      ]
     },
     "metadata": {
      "needs_background": "light"
     },
     "output_type": "display_data"
    }
   ],
   "source": [
    "plt.figure(figsize=(15, 8))\n",
    "plt.bar(w_w_D[:50],f_w_D[:50])\n",
    "plt.title(\"Frequency of Words of Democratic Judges\")\n",
    "plt.ylabel(\"Frequency (#)\")\n",
    "plt.xticks(rotation=90)\n",
    "plt.show()"
   ]
  },
  {
   "cell_type": "code",
   "execution_count": 15,
   "metadata": {},
   "outputs": [
    {
     "data": {
      "image/png": "[encoded data removed]",
      "text/plain": [
       "<Figure size 1080x576 with 1 Axes>"
      ]
     },
     "metadata": {
      "needs_background": "light"
     },
     "output_type": "display_data"
    }
   ],
   "source": [
    "plt.figure(figsize=(15, 8))\n",
    "plt.bar(w_w_R[:50],f_w_R[:50])\n",
    "plt.title(\"Frequency of Words of Republican Judges\")\n",
    "plt.ylabel(\"Frequency (#)\")\n",
    "plt.xticks(rotation=90)\n",
    "plt.show()"
   ]
  },
  {
   "cell_type": "code",
   "execution_count": 16,
   "metadata": {},
   "outputs": [
    {
     "data": {
      "image/png": "[encoded data removed]",
      "text/plain": [
       "<Figure size 1440x576 with 1 Axes>"
      ]
     },
     "metadata": {
      "needs_background": "light"
     },
     "output_type": "display_data"
    }
   ],
   "source": [
    "plt.figure(figsize=(20, 8))\n",
    "plt.bar(w_w_D[:100],f_w_D[:100], alpha=0.4)\n",
    "plt.bar(w_w_R[:100],f_w_R[:100], alpha=0.4)\n",
    "plt.title(\"Frequency of Words of Republican Judges\")\n",
    "plt.ylabel(\"Frequency (#)\")\n",
    "plt.xticks(rotation=90)\n",
    "plt.show()"
   ]
  },
  {
   "cell_type": "markdown",
   "metadata": {},
   "source": [
    "Latent Dirichlet Allocation"
   ]
  },
  {
   "cell_type": "code",
   "execution_count": 20,
   "metadata": {},
   "outputs": [
    {
     "data": {
      "text/plain": [
       "pandas.core.frame.DataFrame"
      ]
     },
     "execution_count": 20,
     "metadata": {},
     "output_type": "execute_result"
    }
   ],
   "source": [
    "%matplotlib inline\n",
    "import matplotlib.pyplot as plt\n",
    "import numpy as np\n",
    "np.set_printoptions(precision=5, suppress=True)\n",
    "\n",
    "len (df_40)\n",
    "#type(df_40)"
   ]
  },
  {
   "cell_type": "code",
   "execution_count": 33,
   "metadata": {},
   "outputs": [
    {
     "data": {
      "text/plain": [
       "(14924, 1000)"
      ]
     },
     "execution_count": 33,
     "metadata": {},
     "output_type": "execute_result"
    }
   ],
   "source": [
    "vocab_size = 1000\n",
    "from sklearn.feature_extraction.text import CountVectorizer\n",
    "\n",
    "# CountVectorizer does tokenization and can remove terms that occur too frequently, not frequently enough, or that are stop words\n",
    "\n",
    "# document frequency (df) means number of documents a word appears in\n",
    "tf_vectorizer = CountVectorizer(max_df = 0.5, #discuss max_df, min_df \n",
    "                                min_df = 1,\n",
    "                                stop_words ='english',\n",
    "                                max_features = vocab_size)\n",
    "tf = tf_vectorizer.fit_transform(df_40[\"text\"]) #read text column only \n",
    "\n",
    "\n",
    "tf.shape"
   ]
  },
  {
   "cell_type": "code",
   "execution_count": 34,
   "metadata": {},
   "outputs": [
    {
     "data": {
      "text/plain": [
       "scipy.sparse.csr.csr_matrix"
      ]
     },
     "execution_count": 34,
     "metadata": {},
     "output_type": "execute_result"
    }
   ],
   "source": [
    "type(tf)"
   ]
  },
  {
   "cell_type": "code",
   "execution_count": 35,
   "metadata": {},
   "outputs": [
    {
     "data": {
      "text/plain": [
       "numpy.ndarray"
      ]
     },
     "execution_count": 35,
     "metadata": {},
     "output_type": "execute_result"
    }
   ],
   "source": [
    "type(tf.toarray())"
   ]
  },
  {
   "cell_type": "code",
   "execution_count": 36,
   "metadata": {},
   "outputs": [
    {
     "data": {
      "text/plain": [
       "(14924, 1000)"
      ]
     },
     "execution_count": 36,
     "metadata": {},
     "output_type": "execute_result"
    }
   ],
   "source": [
    "tf.toarray().shape"
   ]
  },
  {
   "cell_type": "code",
   "execution_count": 37,
   "metadata": {},
   "outputs": [
    {
     "name": "stdout",
     "output_type": "stream",
     "text": [
      "['000', '100', '12', '13', '14', '15', '16', '17', '18', '19', '1964', '1968', '1970', '1971', '1972', '1973', '1974', '1975', '1976', '1977', '1978', '1979', '1980', '1981', '1982', '1983', '1984', '1985', '1986', '1987', '1988', '20', '21', '22', '23', '24', '25', '26', '27', '28', '29', '30', '31', '32', '33', '35', '3d', '40', '42', '45', '49', '50', '60', '___', '____', 'ability', 'able', 'absence', 'absent', 'accept', 'accepted', 'access', 'according', 'accordingly', 'account', 'accused', 'actions', 'activities', 'activity', 'acts', 'actual', 'actually', 'added', 'addition', 'additional', 'address', 'adequate', 'administration', 'administrative', 'adopted', 'affected', 'affirmed', 'age', 'agencies', 'agency', 'agent', 'agents', 'agree', 'agreed', 'agreement', 'agreements', 'aid', 'alabama', 'alien', 'alleged', 'allow', 'allowed', 'alternative', 'amended', 'amendment', 'amendments', 'american', 'analysis', 'ann', 'answer', 'ante', 'antitrust', 'app', 'apparently', 'appeal', 'appear', 'appears', 'appellant', 'appellants', 'appellate', 'appellees', 'applicable', 'application', 'applied', 'applies', 'apply', 'applying', 'approach', 'appropriate', 'approval', 'approved', 'arbitration', 'area', 'argue', 'argued', 'argues', 'argument', 'arguments', 'arising', 'arizona', 'arrest', 'art', 'article', 'aside', 'asked', 'asserted', 'assets', 'assistance', 'association', 'assume', 'attempt', 'attorney', 'authority', 'authorized', 'available', 'avoid', 'award', 'bank', 'bankruptcy', 'bar', 'bargaining', 'basic', 'believe', 'benefit', 'benefits', 'best', 'black', 'board', 'body', 'brief', 'bring', 'broad', 'brought', 'brown', 'burden', 'business', 'cal', 'california', 'called', 'capital', 'car', 'care', 'carolina', 'carrier', 'carriers', 'cause', 'caused', 'central', 'cert', 'certainly', 'certiorari', 'cf', 'challenge', 'challenged', 'change', 'character', 'charge', 'charged', 'charges', 'chief', 'child', 'children', 'choice', 'circuit', 'cite', 'citing', 'citizen', 'citizens', 'city', 'civil', 'claimed', 'claims', 'class', 'clause', 'clearly', 'code', 'collective', 'come', 'comm', 'commerce', 'commercial', 'commission', 'commissioner', 'committed', 'committee', 'common', 'community', 'companies', 'company', 'compensation', 'competition', 'complaint', 'complete', 'compliance', 'concern', 'concerned', 'concerning', 'concerns', 'conclude', 'concluded', 'concurring', 'condition', 'conditions', 'conduct', 'conflict', 'cong', 'congressional', 'connection', 'consent', 'consequences', 'consider', 'consideration', 'considerations', 'considered', 'consistent', 'conspiracy', 'constitute', 'constitution', 'constitutional', 'constitutionally', 'construction', 'construed', 'contained', 'contends', 'contention', 'context', 'continued', 'contract', 'contracts', 'contrary', 'control', 'controversy', 'convicted', 'conviction', 'copyright', 'corp', 'corporation', 'corpus', 'correct', 'cost', 'costs', 'counsel', 'country', 'county', 'covered', 'create', 'created', 'credit', 'crime', 'crimes', 'criminal', 'cross', 'ct', 'custody', 'damages', 'date', 'day', 'days', 'death', 'decide', 'decided', 'decisions', 'decree', 'deemed', 'defendant', 'defendants', 'defense', 'defined', 'definition', 'degree', 'demand', 'denial', 'denied', 'deny', 'department', 'described', 'designed', 'despite', 'determination', 'determine', 'determined', 'determining', 'difference', 'difficult', 'direct', 'directed', 'directly', 'discharge', 'disclosure', 'discretion', 'discrimination', 'discriminatory', 'dismissed', 'dispute', 'dissent', 'dissenting', 'distinction', 'distribution', 'districts', 'doctrine', 'doing', 'doubt', 'drug', 'duties', 'duty', 'earlier', 'economic', 'ed', 'education', 'effective', 'effects', 'effort', 'election', 'element', 'elements', 'emphasis', 'employed', 'employee', 'employees', 'employer', 'employers', 'employment', 'enacted', 'enactment', 'end', 'enforce', 'enforcement', 'engaged', 'entered', 'entire', 'entirely', 'entitled', 'entry', 'equal', 'equally', 'equitable', 'equity', 'error', 'essential', 'establish', 'established', 'estate', 'et', 'event', 'ex', 'examination', 'example', 'exception', 'exchange', 'exclusion', 'exclusive', 'executive', 'exemption', 'exercise', 'existence', 'existing', 'explained', 'express', 'expressed', 'expressly', 'extent', 'face', 'facilities', 'factor', 'factors', 'facts', 'factual', 'failed', 'failure', 'fair', 'faith', 'false', 'family', 'far', 'favor', 'fed', 'fee', 'fees', 'field', 'fifth', 'file', 'filed', 'filing', 'final', 'finally', 'financial', 'finding', 'findings', 'florida', 'follow', 'followed', 'following', 'follows', 'force', 'foreign', 'form', 'forth', 'forum', 'fourteenth', 'fourth', 'fraud', 'free', 'freedom', 'fully', 'function', 'fund', 'fundamental', 'funds', 'future', 'gas', 'gave', 'generally', 'georgia', 'gives', 'giving', 'good', 'goods', 'governing', 'governmental', 'grand', 'grant', 'great', 'greater', 'ground', 'grounds', 'group', 'guilty', 'habeas', 'hand', 'harm', 'having', 'health', 'hearing', 'hearings', 'high', 'history', 'hold', 'home', 'house', 'ibid', 'iii', 'illegal', 'illinois', 'immunity', 'impact', 'importance', 'important', 'impose', 'imposed', 'include', 'included', 'including', 'income', 'inconsistent', 'increase', 'independent', 'indian', 'indictment', 'individual', 'individuals', 'industry', 'information', 'ing', 'initial', 'injunction', 'injury', 'inquiry', 'instance', 'instead', 'insurance', 'intended', 'intent', 'interests', 'internal', 'international', 'interpretation', 'interstate', 'investigation', 'involved', 'involving', 'issued', 'issues', 'iv', 'johnson', 'join', 'judge', 'judges', 'judgments', 'judicial', 'june', 'jurisdiction', 'jurisdictional', 'jurors', 'jury', 'just', 'justified', 'justify', 'kind', 'know', 'knowledge', 'known', 'labor', 'lack', 'land', 'lands', 'language', 'large', 'later', 'laws', 'leave', 'left', 'legal', 'legislation', 'legislative', 'legislature', 'legitimate', 'level', 'liability', 'liberty', 'license', 'life', 'light', 'like', 'likely', 'limit', 'limitation', 'limitations', 'limited', 'limits', 'line', 'lines', 'litigation', 'little', 'local', 'long', 'loss', 'louisiana', 'lower', 'majority', 'makes', 'making', 'man', 'management', 'manner', 'market', 'marks', 'material', 'matters', 'mean', 'meaning', 'means', 'medical', 'meet', 'member', 'members', 'mental', 'mere', 'merely', 'merits', 'method', 'military', 'minimum', 'money', 'months', 'motion', 'motor', 'mr', 'murder', 'narrow', 'nation', 'national', 'natural', 'nature', 'necessarily', 'non', 'north', 'note', 'noted', 'notice', 'number', 'objective', 'obligation', 'observed', 'obtain', 'obtained', 'occurred', 'offense', 'offenses', 'offer', 'offered', 'office', 'officer', 'officers', 'official', 'officials', 'ohio', 'oil', 'old', 'omitted', 'op', 'open', 'operation', 'operations', 'opportunity', 'oral', 'ordered', 'orders', 'ordinance', 'ordinary', 'organization', 'original', 'outside', 'owner', 'paid', 'particularly', 'parties', 'party', 'passed', 'past', 'patent', 'pay', 'payment', 'payments', 'penalty', 'pending', 'pennsylvania', 'people', 'period', 'permit', 'permits', 'permitted', 'person', 'personal', 'persons', 'pet', 'petition', 'petitioner', 'petitioners', 'phrase', 'physical', 'place', 'placed', 'plain', 'plainly', 'plaintiff', 'plaintiffs', 'plan', 'plea', 'plurality', 'point', 'points', 'police', 'policies', 'policy', 'political', 'portion', 'position', 'possession', 'possibility', 'possible', 'post', 'potential', 'powers', 'practical', 'practice', 'practices', 'pre', 'presence', 'presented', 'president', 'presumption', 'prevent', 'previously', 'price', 'prices', 'primary', 'principal', 'principle', 'principles', 'prior', 'prison', 'prisoner', 'privacy', 'private', 'privilege', 'probable', 'problem', 'problems', 'procedural', 'procedure', 'procedures', 'proceeding', 'proceedings', 'process', 'product', 'production', 'products', 'program', 'prohibited', 'prohibition', 'proof', 'proper', 'properly', 'property', 'proposed', 'prosecution', 'prosecutor', 'protect', 'protected', 'protection', 'prove', 'provide', 'provided', 'provides', 'providing', 'provision', 'provisions', 'public', 'punishment', 'purchase', 'purposes', 'pursuant', 'questions', 'quite', 'quotation', 'quoting', 'race', 'racial', 'railroad', 'raised', 'rate', 'rates', 'reach', 'reached', 'read', 'reading', 'real', 'reasonable', 'reasonably', 'reasoning', 'reasons', 'receive', 'received', 'recognized', 'record', 'records', 'recovery', 'reference', 'refusal', 'refused', 'regard', 'regarding', 'regulate', 'regulation', 'regulations', 'regulatory', 'rejected', 'related', 'relations', 'relationship', 'release', 'relevant', 'reliance', 'relied', 'relief', 'religion', 'religious', 'remain', 'remand', 'remanded', 'remedies', 'remedy', 'removal', 'rep', 'report', 'representative', 'request', 'require', 'requirement', 'requirements', 'requires', 'requiring', 'reservation', 'resolution', 'resolve', 'respect', 'respondent', 'respondents', 'response', 'responsibility', 'restrictions', 'results', 'return', 'rev', 'revenue', 'reverse', 'reversed', 'review', 'risk', 'river', 'role', 'rules', 'ruling', 'safety', 'sale', 'sales', 'say', 'says', 'scheme', 'school', 'schools', 'scope', 'search', 'secretary', 'section', 'securities', 'security', 'seek', 'seeking', 'seeks', 'self', 'senate', 'sense', 'sentence', 'sentencing', 'separate', 'serve', 'served', 'service', 'services', 'sess', 'set', 'shall', 'share', 'short', 'showing', 'shown', 'significant', 'similar', 'similarly', 'simply', 'single', 'situation', 'sixth', 'slip', 'smith', 'social', 'society', 'solely', 'sought', 'source', 'south', 'sovereign', 'special', 'specific', 'specifically', 'specified', 'speech', 'stand', 'standard', 'standards', 'standing', 'stat', 'stated', 'statement', 'statements', 'status', 'statutes', 'statutory', 'stock', 'strike', 'structure', 'subsection', 'subsequent', 'substantial', 'substantially', 'substantive', 'sufficient', 'suggest', 'suggested', 'suggests', 'suit', 'suits', 'summary', 'supp', 'support', 'supported', 'supreme', 'taken', 'taking', 'tax', 'taxation', 'taxes', 'taxpayer', 'term', 'terms', 'test', 'testimony', 'texas', 'text', 'theory', 'think', 'thomas', 'thought', 'times', 'tion', 'title', 'today', 'took', 'total', 'trade', 'traditional', 'transfer', 'transportation', 'treatment', 'trial', 'tribe', 'true', 'trust', 'turn', 'type', 'unconstitutional', 'underlying', 'understanding', 'unfair', 'union', 'unlawful', 'unless', 'unreasonable', 'used', 'using', 'valid', 'validity', 'value', 'various', 'verdict', 'views', 'vii', 'violate', 'violated', 'violation', 'violations', 'virginia', 'vote', 'voting', 'war', 'warrant', 'washington', 'water', 'waters', 'way', 'west', 'white', 'wholly', 'witness', 'witnesses', 'word', 'words', 'work', 'workers', 'writ', 'written', 'year', 'years', 'york']\n"
     ]
    }
   ],
   "source": [
    "print(tf_vectorizer.get_feature_names())"
   ]
  },
  {
   "cell_type": "code",
   "execution_count": 40,
   "metadata": {},
   "outputs": [
    {
     "data": {
      "text/plain": [
       "array([[ 35,  12,   7,   3,   7,   6,   4,   7,   3,   4,   0,   0,   1,\n",
       "          3,   0,   0,   1,   2,   5,   2,   0,   0,   0,   3,   1,   0,\n",
       "          0,   1,   2,   0,   0,   3,   5,   5,   3,   4,  22,  11,   8,\n",
       "          6,   8,   8,   2,   2,   2,   2,   1,   3,   0,   1,   1,   8,\n",
       "          1,   8,  20,   6,   1,   2,   1,   1,   4,   6,   2,   1,   3,\n",
       "          0,   3,   3,   3,   0,   3,   2,   7,   5,   4,   5,   2,   0,\n",
       "          0,   2,   0,   0,   0,   0,   1,   1,   0,   2,   0,   1,   2,\n",
       "          0,   0,   0,   1,   0,   0,   4,   1,  37,   2,   0,   4,   4,\n",
       "          1,   0,   0,   0,   0,   1,   1,   0,   3,   5,   0,   0,   8,\n",
       "          1,   1,   0,   5,   1,   2,   0,   1,   0,   0,   1,   0,   2,\n",
       "          2,   6,   2,   0,   1,   0,   0,   0,   0,   2,   4,   0,   0,\n",
       "          3,   1,   1,   1,   1,   3,   2,   6,   0,   0,   0,   0,   0,\n",
       "          5,   3,   3,   1,   1,   0,   1,   0,   9,   0,   1,   0,   0,\n",
       "          8,   1,   4,   4,   6,   0,   0,   0,   0,   0,   0,   4,   0,\n",
       "          2,   0,   0,   0,   5,   7,   1,   1,   1,   0,   1,   0,   0,\n",
       "          0,   0,   1,   0,  20,   1,   1,  17,   0,   0,   0,   0,   0,\n",
       "          0,   1,   1,   7,   0,  38,   0,   0,   2,   0,   0,  42,   3,\n",
       "          0,   0,   0,   0,   0,   0,   0,   3,   4,   1,   1,   5,   3,\n",
       "          5,   6,   0,   0,   1,   0,   1,   4,   3,   0,   0,   3,   2,\n",
       "          1,   3,   0,   0,   1,   3,   3,   0,   0,   0,   0,   2,   0,\n",
       "          5,   0,   0,   0,   0,   6,   0,   0,   0,   0,   0,   0,   0,\n",
       "          0,   0,   2,   0,   0,   0,   0,   3,   1,   3,   1,   0,   0,\n",
       "          0,   0,   0,   0,   3,   0,   0,   0,   1,   5,   0,   1,   1,\n",
       "          0,   0,   0,   0,   2,   3,   0,   0,   1,   1,   1,   3,   1,\n",
       "          2,   1,   0,   1,   0,   0,   3,  12,   3,   6,   0,   8,   2,\n",
       "          0,   0,   0,   0,  19,   2,   3,   0,   0,   0,   4,   1,   0,\n",
       "          1,   0,   0,   0,   4,   0,   4,   0,   1,  54,   0,   1,   3,\n",
       "          0,   0,   0,   0,   0,   0,   2,   0,   0,   1,   3,   1,   0,\n",
       "          1,   0,   0,   0,   2,   2,   0,   0,   0,   1,   2,   3,   0,\n",
       "          2,   2,   1,   0,  18,   1,   1,   0,   0,   0,   0,   5,   0,\n",
       "          3,   7,   1,   0,   1,   3,   0,   0,   0,   1,   0,   0,   1,\n",
       "          1,   3,   0,   0,   0,   4,   1,   3,   0,   0,   1,   0,   0,\n",
       "          3,   0,   1,   2,   6,   0,   0,   0,   1,   0,   0,   0,   2,\n",
       "          1,   1,   2,   0,   0,   0,   0,   4,   5,   1,   1,   1,   2,\n",
       "         16,   1,   0,   0,   1,   0,   4,   2,   1,   0,   1,   8,   0,\n",
       "          0,   1,   0,   1,   0,   5,   2,   0,   2,   0,   0,   0,   1,\n",
       "          0,   0,   0,   0,   1,   8,  14,   1,   2,   0,   0,   1,   0,\n",
       "          5,   6,   6,   3,   0,   2,   0,   0,   0,   9,   0,   0,  42,\n",
       "          8,   0,   4,   7,   3,   2,   0,   1,   1,   5,   0,   1,   3,\n",
       "          5,   0,   0,   0,   0,   0,   1,   0,   0,   2,   3,   1,   1,\n",
       "          2,   0,   0,   1,   1,   1,   0,   0,   0,   9,   3,   2,   1,\n",
       "          0,   7,   0,   1,   0,   0,   1,   1,  18,   0,   6,   1,   0,\n",
       "          4,   1,   3,   0,   3,   3,   0,   0,   0,   4,   3,   5,  10,\n",
       "         40,   2,   2,   9, 137,   5,   1,   0,   2,   5,   1,   0,   0,\n",
       "          1,   4,   3,   1,   2,   0,   2,   0,   0,   0,   2,   2,   0,\n",
       "         14,   1,   0,   1,   3,   1,   2,   2,   2,   1,   0,   0,  46,\n",
       "          1,   1,   0,   0,   0,   2,   0,  24,   0,   2,   5,   2,   0,\n",
       "          0,   4,   0,   5,  11,   0,   2,   0,   0,   0,   1,   0,   0,\n",
       "          0,   6,   0,   0,   4,   4,   0,   0,   0,   0,   4,   2,   1,\n",
       "          0,   4,   7,   1,   1,   0,   0,   0,   2,   0,   0,   0,   3,\n",
       "         11,  49,   0,   3,   0,   0,   0,   0,   0,   0,   0,   4,   1,\n",
       "          4,   0,   1,   4,   1,   2,   0,   0,   0,   0,   1,   0,   6,\n",
       "          0,   0,   1,   0,   0,   1,   0,   1,   6,   0,   0,   1,   2,\n",
       "         58,   6,   0,   0,   4,   5,  12,   3,   0,   1,   0,   0,   1,\n",
       "          0,   2,   0,   0,   9,   3,   0,   0,   4,   0,   1,   0,   2,\n",
       "          0,   0,   0,   1,   0,   1,   4,   0,   0,   0,   0,   0,   2,\n",
       "         12,   0,   0,   0,   0,   0,   0,   0,   1,   2,   0,   0,   0,\n",
       "          0,   4,   6,   1,   1,   1,   0,   2,   0,   5,   1,  10,   0,\n",
       "          0,   1,   0,   0,   3,   0,   3,   0,   0,   0,   1,   0,   0,\n",
       "          0,   1,   0,   0,   2,   1,   0,   0,   4,   4,   3,   3,   3,\n",
       "          0,   0,   1,   0,   0,   2,   0,   3,   6,   4,   3,   5,   1,\n",
       "          0,   0,   0,   2,   0,   0,   0,   0,   0,   3,   1,   1,   0,\n",
       "          0,   0,   0,   0,   3,   0,   4,   1,   2,   3,   0,   0,   0,\n",
       "          1,   1,   0,   0,   0,   0,   9,   0,   1,   1,   0,   0,   1,\n",
       "          5,   9,   0,   1,   9,   0,   0,   0,   0,   4,   1,   8,   0,\n",
       "          0,   1,   0,   0,   0,   0,   0,   3,   0,   2,   3,   6,   1,\n",
       "          0,   0,   4,   5,   2,   0,   1,   1,   2,   3,   6,   0,   1,\n",
       "          1,   4,   3,   2,   8,  10,   0,   0,   4,  27,   1,   1,   0,\n",
       "          1,   0,   0,   0,   1,   7,   1,   1,  24,   0,   2,   2,   1,\n",
       "          5,   4,   0,   0,   0,   1,   4,   0,   0,   0,   0,   0,   8,\n",
       "          0,   0,   1,   0,   0,   2,   0,   0,   0,   8,  26,   1,   1,\n",
       "          0,   0,   0,   0,   0,   0,   0,   1,   4,   0,   1,   0,   2,\n",
       "          1,   4,   1,   5,  13,   0,   5,   0,  12,   0,   1,   8,   0,\n",
       "          1,   0,   0,   1,   0,   6,   1,   1,   1,   1,   0,   1,   0,\n",
       "          0,   0,   3,   0,   1,   2,   2,   6,   0,   5,   0,   1,   0,\n",
       "          1,   1,   1,   3,   1,   0,   0,   0,   0,   0,  10,   3,   0,\n",
       "          1,   0,   0,   0,   0,   2,   0,   1,   1,   5,   2,   1]])"
      ]
     },
     "execution_count": 40,
     "metadata": {},
     "output_type": "execute_result"
    }
   ],
   "source": [
    "tf[0].toarray()"
   ]
  },
  {
   "cell_type": "markdown",
   "metadata": {},
   "source": [
    "We now fit an LDA model to the data"
   ]
  },
  {
   "cell_type": "code",
   "execution_count": 41,
   "metadata": {},
   "outputs": [
    {
     "data": {
      "text/plain": [
       "LatentDirichletAllocation(random_state=0)"
      ]
     },
     "execution_count": 41,
     "metadata": {},
     "output_type": "execute_result"
    }
   ],
   "source": [
    "num_topics = 10 #discuss num_topics- how to pick this number \n",
    "\n",
    "from sklearn.decomposition import LatentDirichletAllocation\n",
    "lda = LatentDirichletAllocation(n_components=num_topics, random_state=0)\n",
    "lda.fit(tf)"
   ]
  },
  {
   "cell_type": "code",
   "execution_count": null,
   "metadata": {},
   "outputs": [],
   "source": [
    "lda.components_.shape"
   ]
  },
  {
   "cell_type": "code",
   "execution_count": 42,
   "metadata": {},
   "outputs": [
    {
     "data": {
      "text/plain": [
       "array([1065810.10973,  717972.07193, 1236537.70554,  401094.28337,\n",
       "       1089181.47777, 1223631.15371,  845530.30748,  997938.71891,\n",
       "        813510.39052,  849528.78104])"
      ]
     },
     "execution_count": 42,
     "metadata": {},
     "output_type": "execute_result"
    }
   ],
   "source": [
    "lda.components_.sum(axis=1)"
   ]
  },
  {
   "cell_type": "code",
   "execution_count": 43,
   "metadata": {},
   "outputs": [],
   "source": [
    "topic_word_distributions = np.array([row / row.sum() for row in lda.components_])"
   ]
  },
  {
   "cell_type": "code",
   "execution_count": 44,
   "metadata": {},
   "outputs": [
    {
     "data": {
      "text/plain": [
       "(10, 1000)"
      ]
     },
     "execution_count": 44,
     "metadata": {},
     "output_type": "execute_result"
    }
   ],
   "source": [
    "topic_word_distributions.shape"
   ]
  },
  {
   "cell_type": "code",
   "execution_count": 45,
   "metadata": {},
   "outputs": [
    {
     "data": {
      "text/plain": [
       "array([1., 1., 1., 1., 1., 1., 1., 1., 1., 1.])"
      ]
     },
     "execution_count": 45,
     "metadata": {},
     "output_type": "execute_result"
    }
   ],
   "source": [
    "topic_word_distributions.sum(axis=1) #We can verify that each topic's word distribution sums to 1"
   ]
  },
  {
   "cell_type": "code",
   "execution_count": 46,
   "metadata": {},
   "outputs": [
    {
     "name": "stdout",
     "output_type": "stream",
     "text": [
      "[0.00035 0.00055 0.00369 0.00358 0.00324 0.00312 0.00306 0.00264 0.0041\n",
      " 0.00176 0.00022 0.00044 0.00015 0.00029 0.00021 0.00036 0.00025 0.0003\n",
      " 0.00051 0.00037 0.00043 0.00056 0.0006  0.00042 0.00048 0.00103 0.00099\n",
      " 0.00062 0.00092 0.00111 0.00082 0.00222 0.00217 0.0016  0.0013  0.00121\n",
      " 0.00131 0.00113 0.00118 0.00077 0.00079 0.00125 0.00083 0.00067 0.00079\n",
      " 0.00119 0.00869 0.00071 0.00063 0.00052 0.00049 0.00048 0.0003  0.00863\n",
      " 0.01108 0.00079 0.00114 0.00069 0.00061 0.00037 0.0003  0.00048 0.00086\n",
      " 0.00067 0.00086 0.00007 0.00067 0.00014 0.00104 0.00054 0.00133 0.00092\n",
      " 0.00266 0.00064 0.00082 0.00148 0.00013 0.00009 0.00015 0.00086 0.00005\n",
      " 0.00029 0.00151 0.00009 0.00027 0.00065 0.00151 0.00177 0.00042 0.00015\n",
      " 0.00001 0.0001  0.00014 0.00026 0.0003  0.0008  0.00041 0.00084 0.00008\n",
      " 0.01171 0.00026 0.00144 0.00285 0.00217 0.00081 0.01438 0.      0.0032\n",
      " 0.00041 0.00003 0.00045 0.00066 0.      0.      0.00002 0.      0.00043\n",
      " 0.00163 0.00151 0.00192 0.00297 0.00131 0.00344 0.0006  0.00015 0.00018\n",
      " 0.      0.00096 0.00041 0.00051 0.00078 0.00251 0.00054 0.00007 0.00156\n",
      " 0.00517 0.00133 0.00093 0.00013 0.00079 0.0002  0.      0.00013 0.00027\n",
      " 0.00056 0.00064 0.00013 0.00225 0.00067 0.00077 0.00089 0.00003 0.0002\n",
      " 0.      0.0007  0.      0.00079 0.00244 0.0002  0.00018 0.00081 0.00028\n",
      " 0.00003 0.00065 0.00687 0.00035 0.0008  0.00024 0.00055 0.00079 0.00027\n",
      " 0.00154 0.00145 0.00056 0.00005 0.00246 0.00068 0.00026 0.00001 0.\n",
      " 0.00649 0.00059 0.00047 0.00085 0.00054 0.00061 0.00188 0.00055 0.00024\n",
      " 0.00071 0.00018 0.00009 0.00024 0.00005 0.00039 0.00309 0.00075 0.00047\n",
      " 0.00255 0.01123 0.00146 0.00052 0.00034 0.00044 0.00044 0.00038 0.00141\n",
      " 0.00045 0.00447 0.00108 0.0024  0.00002 0.00096 0.00008 0.00009 0.00008\n",
      " 0.00031 0.00004 0.00096 0.00001 0.00371 0.00033 0.00001 0.00004 0.\n",
      " 0.      0.00007 0.00034 0.00017 0.00085 0.00032 0.00027 0.00126 0.00086\n",
      " 0.00094 0.00563 0.00062 0.00051 0.00544 0.00023 0.00004 0.00009 0.00056\n",
      " 0.00175 0.00066 0.00152 0.00021 0.00025 0.00096 0.00121 0.      0.00044\n",
      " 0.00133 0.00213 0.0004  0.00053 0.00021 0.00051 0.00049 0.00008 0.00245\n",
      " 0.00029 0.00003 0.      0.00142 0.00112 0.      0.00038 0.0003  0.00005\n",
      " 0.0006  0.00001 0.      0.00076 0.00015 0.00025 0.00004 0.00075 0.00039\n",
      " 0.00042 0.00072 0.00051 0.00015 0.00345 0.00107 0.00335 0.00011 0.00014\n",
      " 0.00134 0.00072 0.00013 0.00059 0.00029 0.00047 0.00117 0.00071 0.00166\n",
      " 0.      0.0003  0.00153 0.00018 0.00059 0.00086 0.00179 0.0009  0.00044\n",
      " 0.00003 0.00018 0.00008 0.00053 0.00144 0.00057 0.00056 0.00041 0.00115\n",
      " 0.00037 0.0007  0.00088 0.001   0.00043 0.00018 0.00049 0.00002 0.00015\n",
      " 0.00048 0.      0.      0.00002 0.00058 0.0045  0.01124 0.00101 0.00016\n",
      " 0.      0.00184 0.00079 0.00084 0.00377 0.00014 0.00039 0.00085 0.00002\n",
      " 0.00364 0.      0.00046 0.00095 0.00042 0.      0.00116 0.00116 0.00265\n",
      " 0.00027 0.00008 0.00004 0.      0.00001 0.00004 0.00089 0.00023 0.00107\n",
      " 0.00039 0.00329 0.00047 0.00031 0.00041 0.0008  0.00043 0.00145 0.00004\n",
      " 0.00028 0.00001 0.      0.00031 0.00036 0.00092 0.00133 0.00001 0.00138\n",
      " 0.0008  0.00162 0.00014 0.00341 0.00256 0.00005 0.00028 0.00017 0.00014\n",
      " 0.00007 0.00027 0.00049 0.00034 0.00241 0.00065 0.00029 0.00046 0.00057\n",
      " 0.00064 0.00005 0.00048 0.00081 0.00209 0.0007  0.00042 0.00044 0.00028\n",
      " 0.00028 0.00125 0.00086 0.00132 0.00046 0.00102 0.      0.00001 0.00058\n",
      " 0.00037 0.00016 0.00005 0.      0.00007 0.00073 0.00007 0.00065 0.00009\n",
      " 0.00141 0.00058 0.00035 0.00059 0.00045 0.00292 0.00016 0.00117 0.00069\n",
      " 0.      0.00004 0.00845 0.00038 0.00125 0.00024 0.0004  0.00037 0.00001\n",
      " 0.00051 0.00001 0.00044 0.00008 0.00044 0.00163 0.00008 0.00059 0.00043\n",
      " 0.00159 0.00027 0.00024 0.0005  0.00001 0.00015 0.00047 0.00078 0.00052\n",
      " 0.0006  0.00027 0.00012 0.      0.00077 0.00169 0.0007  0.00098 0.00003\n",
      " 0.00001 0.00089 0.00152 0.00135 0.00331 0.00238 0.00632 0.00184 0.0016\n",
      " 0.00048 0.00002 0.00029 0.00028 0.00124 0.00071 0.00037 0.00127 0.00029\n",
      " 0.00181 0.      0.00037 0.00016 0.0006  0.      0.      0.0032  0.00096\n",
      " 0.00002 0.00292 0.0071  0.00084 0.      0.00136 0.00146 0.00065 0.00252\n",
      " 0.00001 0.00086 0.00132 0.00149 0.00292 0.00044 0.0021  0.00003 0.00065\n",
      " 0.00099 0.00099 0.00077 0.00009 0.0006  0.00125 0.00072 0.00046 0.00092\n",
      " 0.00023 0.00102 0.00026 0.00003 0.00008 0.      0.00005 0.00316 0.00089\n",
      " 0.00134 0.00094 0.00138 0.00139 0.00134 0.00001 0.00067 0.00017 0.\n",
      " 0.00185 0.00059 0.0016  0.00284 0.00066 0.00097 0.00268 0.00017 0.00036\n",
      " 0.00042 0.00102 0.00081 0.00108 0.00091 0.00067 0.00177 0.00138 0.00334\n",
      " 0.00224 0.00075 0.00022 0.00033 0.00176 0.00095 0.00115 0.00022 0.00012\n",
      " 0.00135 0.00024 0.0024  0.00024 0.00005 0.0011  0.00894 0.00201 0.00127\n",
      " 0.00121 0.00003 0.00081 0.00001 0.00371 0.00089 0.00038 0.00149 0.00309\n",
      " 0.00296 0.00112 0.00029 0.00008 0.00012 0.00106 0.00078 0.00106 0.00004\n",
      " 0.00093 0.      0.00051 0.00023 0.00024 0.00014 0.00029 0.0002  0.00007\n",
      " 0.0007  0.00062 0.00065 0.00075 0.00136 0.00083 0.00041 0.00042 0.00041\n",
      " 0.00121 0.00034 0.00128 0.00131 0.00011 0.00107 0.00123 0.00154 0.00078\n",
      " 0.00122 0.00052 0.00027 0.0002  0.00147 0.00636 0.0071  0.00097 0.00086\n",
      " 0.00098 0.00003 0.00089 0.00364 0.00471 0.00098 0.00017 0.00007 0.00019\n",
      " 0.00117 0.00042 0.00001 0.00002 0.00179 0.      0.00083 0.0013  0.00103\n",
      " 0.00001 0.00086 0.00079 0.00057 0.00032 0.00075 0.00832 0.00005 0.\n",
      " 0.      0.00028 0.00003 0.00012 0.00201 0.00042 0.00078 0.00056 0.0004\n",
      " 0.00753 0.00163 0.00177 0.00082 0.00006 0.00062 0.00114 0.00169 0.00266\n",
      " 0.00308 0.00065 0.00126 0.00037 0.00014 0.0001  0.00002 0.00002 0.00283\n",
      " 0.00314 0.00084 0.01053 0.00009 0.00083 0.00002 0.00025 0.00067 0.00135\n",
      " 0.00057 0.00089 0.00435 0.00108 0.00018 0.00076 0.00115 0.00038 0.0019\n",
      " 0.00111 0.00061 0.00003 0.00067 0.00104 0.00082 0.00002 0.      0.00064\n",
      " 0.00045 0.00143 0.00112 0.00169 0.0005  0.00006 0.00376 0.00116 0.00001\n",
      " 0.00423 0.00095 0.00044 0.00004 0.0003  0.00039 0.00003 0.00008 0.00172\n",
      " 0.00064 0.00002 0.00015 0.00008 0.00049 0.00069 0.00031 0.00098 0.00049\n",
      " 0.00175 0.00019 0.00022 0.      0.00113 0.00089 0.00217 0.00069 0.00158\n",
      " 0.00055 0.00132 0.00032 0.0024  0.00064 0.00218 0.00044 0.00006 0.00164\n",
      " 0.00045 0.00071 0.00065 0.00316 0.0033  0.      0.      0.00003 0.00009\n",
      " 0.00019 0.00006 0.00092 0.00027 0.00162 0.00222 0.0008  0.00534 0.00142\n",
      " 0.00093 0.00173 0.00034 0.00032 0.00146 0.00082 0.00046 0.00004 0.00058\n",
      " 0.00023 0.0002  0.0003  0.00073 0.00023 0.00027 0.00009 0.00021 0.00098\n",
      " 0.00156 0.00001 0.00062 0.00076 0.00262 0.00088 0.00061 0.00005 0.\n",
      " 0.      0.00073 0.00024 0.00011 0.00003 0.00014 0.00044 0.0004  0.00124\n",
      " 0.      0.00029 0.00207 0.00362 0.00086 0.00231 0.00092 0.00001 0.00011\n",
      " 0.00066 0.00139 0.0017  0.00087 0.00088 0.00023 0.00021 0.00081 0.00029\n",
      " 0.0024  0.00002 0.00034 0.00022 0.00028 0.00305 0.00001 0.00079 0.00121\n",
      " 0.00013 0.00145 0.00026 0.00003 0.00212 0.00172 0.00037 0.0001  0.\n",
      " 0.00189 0.01027 0.      0.00061 0.      0.00061 0.00068 0.00046 0.00053\n",
      " 0.00073 0.00003 0.00147 0.00071 0.00007 0.00081 0.0006  0.00039 0.00014\n",
      " 0.00026 0.00005 0.0013  0.00083 0.00025 0.00087 0.0006  0.00022 0.00139\n",
      " 0.002   0.00093 0.00252 0.0011  0.00059 0.00019 0.00437 0.00059 0.00061\n",
      " 0.0009  0.00032 0.00058 0.00089 0.00038 0.00004 0.00085 0.00162 0.00043\n",
      " 0.00023 0.00009 0.00033 0.00308 0.00094 0.00081 0.00278 0.00072 0.00172\n",
      " 0.00141 0.00078 0.00185 0.00201 0.      0.00006 0.00078 0.00056 0.00044\n",
      " 0.00124 0.00016 0.00062 0.00111 0.00103 0.00052 0.00159 0.00013 0.00005\n",
      " 0.00021 0.00147 0.00141 0.00051 0.0015  0.00131 0.00068 0.      0.\n",
      " 0.      0.      0.00398 0.00159 0.00399 0.00028 0.00061 0.00364 0.00056\n",
      " 0.0008  0.00406 0.00089 0.00084 0.00673 0.00017 0.00426 0.00075 0.00009\n",
      " 0.00012 0.00091 0.00007 0.00007 0.00084 0.00009 0.00001 0.00137 0.00004\n",
      " 0.00099 0.00073 0.00062 0.00062 0.00134 0.00003 0.00001 0.00131 0.00095\n",
      " 0.00206 0.00371 0.00151 0.0011  0.00047 0.00044 0.00036 0.      0.00051\n",
      " 0.00001 0.00078 0.00109 0.00203 0.00067 0.0003  0.00003 0.      0.00015\n",
      " 0.0071  0.00031 0.00006 0.      0.00301 0.00125 0.00053 0.00015 0.00002\n",
      " 0.      0.00235 0.00228 0.00071 0.00002 0.00016 0.00055 0.00128 0.00215\n",
      " 0.00081]\n"
     ]
    }
   ],
   "source": [
    "print(topic_word_distributions[0]) #probabilities for the different words are for a specific topic"
   ]
  },
  {
   "cell_type": "code",
   "execution_count": 47,
   "metadata": {},
   "outputs": [
    {
     "name": "stdout",
     "output_type": "stream",
     "text": [
      "Displaying the top 20 words per topic and their probabilities within the topic...\n",
      "\n",
      "[Topic 0]\n",
      "ante : 0.014383966998849614\n",
      "amendment : 0.011705243235609432\n",
      "dissenting : 0.011235126472551862\n",
      "cite : 0.01122757077217929\n",
      "____ : 0.011081655490585998\n",
      "police : 0.010528257551879599\n",
      "search : 0.010272625770296672\n",
      "majority : 0.00894115607670288\n",
      "3d : 0.008691359656120681\n",
      "___ : 0.008626378348199602\n",
      "fourth : 0.008453896465106466\n",
      "patent : 0.008318273512571802\n",
      "person : 0.007526516775731902\n",
      "officers : 0.0071032067815824254\n",
      "warrant : 0.0071018421950627885\n",
      "ing : 0.007096135726106989\n",
      "brief : 0.006865488510064651\n",
      "tion : 0.006727742553072643\n",
      "cause : 0.006493547942400892\n",
      "officer : 0.0063644771327360065\n",
      "\n",
      "[Topic 1]\n",
      "tax : 0.04836922996431319\n",
      "property : 0.034449818304607326\n",
      "income : 0.01764282754913888\n",
      "value : 0.011606954139643941\n",
      "bank : 0.011376152300679277\n",
      "taxes : 0.010647029808492223\n",
      "bankruptcy : 0.00989376766860257\n",
      "trust : 0.008604793750893508\n",
      "corporation : 0.00806557864004491\n",
      "business : 0.008011790144813017\n",
      "paid : 0.007865759140372835\n",
      "commissioner : 0.007791545882658656\n",
      "taxpayer : 0.007650187353126341\n",
      "pay : 0.0074885464770987125\n",
      "payment : 0.007424574247016349\n",
      "estate : 0.007096227088455359\n",
      "code : 0.006681516501857265\n",
      "revenue : 0.006625881799470219\n",
      "year : 0.006264586064878436\n",
      "assets : 0.005908476962880699\n",
      "\n",
      "[Topic 2]\n",
      "agency : 0.010815591456485073\n",
      "secretary : 0.00848426052726601\n",
      "ed : 0.00801696307815094\n",
      "ct : 0.008004962327172942\n",
      "statutory : 0.007903421194679032\n",
      "respondents : 0.007540065999810623\n",
      "claims : 0.0075283837690558655\n",
      "regulations : 0.007382058804399119\n",
      "benefits : 0.007163260284109294\n",
      "provision : 0.0066937194482237896\n",
      "class : 0.006635220759118742\n",
      "petitioners : 0.0062505469447574485\n",
      "regulation : 0.006037826685372773\n",
      "plan : 0.005897416062643295\n",
      "section : 0.005881882599448256\n",
      "language : 0.005694648305965236\n",
      "administrative : 0.005645655602780827\n",
      "provisions : 0.005063367056345899\n",
      "program : 0.004667801033785805\n",
      "damages : 0.004572520003872968\n",
      "\n",
      "[Topic 3]\n",
      "immunity : 0.02975433160779611\n",
      "foreign : 0.023123617625584566\n",
      "party : 0.021111268267815057\n",
      "attorney : 0.02038678472858452\n",
      "fees : 0.016875432689661934\n",
      "privilege : 0.016628594041901073\n",
      "fee : 0.01221118309617558\n",
      "sovereign : 0.01099194742056847\n",
      "information : 0.010145987649605044\n",
      "civil : 0.009686908530518238\n",
      "amendment : 0.008973703415866948\n",
      "suit : 0.008625727970431797\n",
      "litigation : 0.007805318583808992\n",
      "petitioner : 0.007641420054308224\n",
      "records : 0.0075720712402674115\n",
      "committee : 0.007362466366758422\n",
      "award : 0.0072641826151542905\n",
      "witness : 0.0070909866594490644\n",
      "disclosure : 0.0070064109768967296\n",
      "fifth : 0.00667467001941813\n",
      "\n",
      "[Topic 4]\n",
      "trial : 0.017841277261149938\n",
      "review : 0.016594059565884348\n",
      "counsel : 0.014594205668264767\n",
      "appeal : 0.01270200736469312\n",
      "judge : 0.011118812958460863\n",
      "process : 0.010960971571557265\n",
      "defendant : 0.010243807462985583\n",
      "proceedings : 0.010066351445762376\n",
      "habeas : 0.009866931363904919\n",
      "constitutional : 0.009510695970384786\n",
      "hearing : 0.008898924100760269\n",
      "relief : 0.007701169216223497\n",
      "petition : 0.0075866616376362925\n",
      "judicial : 0.007554523610340883\n",
      "respondent : 0.007123395308677277\n",
      "motion : 0.007006800190210227\n",
      "claims : 0.006877801845524598\n",
      "criminal : 0.006583702816584852\n",
      "petitioner : 0.006444864197934726\n",
      "procedure : 0.006422277454769216\n",
      "\n",
      "[Topic 5]\n",
      "jurisdiction : 0.015054710821766458\n",
      "constitution : 0.012951584936987332\n",
      "constitutional : 0.011250981617619319\n",
      "clause : 0.010253560047885238\n",
      "amendment : 0.010129388913109712\n",
      "laws : 0.00841342722887507\n",
      "legislative : 0.007819748565414356\n",
      "judicial : 0.007576191855103822\n",
      "authority : 0.007059519843788491\n",
      "political : 0.00670176918194438\n",
      "equal : 0.006593115798011384\n",
      "protection : 0.006346083219162506\n",
      "military : 0.006134514067074732\n",
      "county : 0.005944561057715208\n",
      "article : 0.005825146140359571\n",
      "civil : 0.005457041480858395\n",
      "shall : 0.005431528398244392\n",
      "president : 0.005381451724527316\n",
      "process : 0.005281839456897544\n",
      "citizens : 0.00510741495692036\n",
      "\n",
      "[Topic 6]\n",
      "commission : 0.04012243705187729\n",
      "commerce : 0.02327104501120158\n",
      "interstate : 0.017870384032342364\n",
      "price : 0.010908005922189792\n",
      "service : 0.009500143374812127\n",
      "business : 0.009454361229746364\n",
      "rate : 0.008979626544233038\n",
      "market : 0.008783736313027339\n",
      "company : 0.008717265757546666\n",
      "gas : 0.008706247724117414\n",
      "rates : 0.008627331119835845\n",
      "public : 0.007774000060505102\n",
      "carrier : 0.007238373943018134\n",
      "competition : 0.0070610479050640315\n",
      "transportation : 0.006584298360591999\n",
      "railroad : 0.006112926667032007\n",
      "regulation : 0.006046132938473991\n",
      "sales : 0.005985833076464698\n",
      "trade : 0.0059841037459494924\n",
      "authority : 0.005309819939749358\n",
      "\n",
      "[Topic 7]\n",
      "petitioner : 0.03386011654819417\n",
      "jury : 0.033798513132005326\n",
      "trial : 0.024722661830214824\n",
      "defendant : 0.01928747657682814\n",
      "criminal : 0.015597685495345287\n",
      "death : 0.011878373777340674\n",
      "sentence : 0.011606740922965963\n",
      "offense : 0.010322204137773905\n",
      "conviction : 0.009715881765477333\n",
      "crime : 0.009542625276397165\n",
      "judge : 0.008885102743098526\n",
      "respondent : 0.008799605763173839\n",
      "sentencing : 0.008622289177759838\n",
      "penalty : 0.0077154819260019224\n",
      "testimony : 0.006934431625509783\n",
      "prosecution : 0.006491744496199786\n",
      "punishment : 0.006432834151380046\n",
      "guilty : 0.006179337954586007\n",
      "mr : 0.006054331381515184\n",
      "convicted : 0.005587934872832717\n",
      "\n",
      "[Topic 8]\n",
      "public : 0.031204660751681452\n",
      "board : 0.021932930079796287\n",
      "school : 0.017102985828699634\n",
      "amendment : 0.014524928049684575\n",
      "speech : 0.014179401217150053\n",
      "religious : 0.01189127275302597\n",
      "water : 0.010423135455787819\n",
      "city : 0.010097121494455153\n",
      "free : 0.008492298164458808\n",
      "schools : 0.007724269938154774\n",
      "private : 0.007169119327292685\n",
      "education : 0.006950396893944971\n",
      "constitutional : 0.006255828770999461\n",
      "ordinance : 0.005725474254060193\n",
      "freedom : 0.005703978620476783\n",
      "activities : 0.005609839944386217\n",
      "protected : 0.005590515371418129\n",
      "religion : 0.0054395720983923\n",
      "children : 0.005318513028762092\n",
      "waters : 0.005109330800224739\n",
      "\n",
      "[Topic 9]\n",
      "union : 0.023826465721961437\n",
      "employees : 0.022619281171840516\n",
      "labor : 0.019778897886691408\n",
      "employer : 0.017148853369059868\n",
      "employee : 0.013771229075388157\n",
      "agreement : 0.012728694918859784\n",
      "board : 0.012669183941928648\n",
      "title : 0.011583728781765298\n",
      "employment : 0.011407982429764705\n",
      "contract : 0.011240367820500575\n",
      "work : 0.010656955452328991\n",
      "bargaining : 0.009738055574682663\n",
      "indian : 0.008844917524587903\n",
      "lands : 0.008735990799063412\n",
      "arbitration : 0.00730845886755574\n",
      "collective : 0.007053814096901252\n",
      "parties : 0.006489097459260665\n",
      "discrimination : 0.006097788346833461\n",
      "tribe : 0.0059792161359036936\n",
      "vii : 0.005966473535551861\n",
      "\n"
     ]
    }
   ],
   "source": [
    "num_top_words = 20 #double check \n",
    "\n",
    "def print_top_words(topic_word_distributions, num_top_words, vectorizer):\n",
    "    vocab = vectorizer.get_feature_names()\n",
    "    num_topics = len(topic_word_distributions)\n",
    "    print('Displaying the top %d words per topic and their probabilities within the topic...' % num_top_words)\n",
    "    print()\n",
    "\n",
    "    for topic_idx in range(num_topics):\n",
    "        print('[Topic ', topic_idx, ']', sep='')\n",
    "        sort_indices = np.argsort(-topic_word_distributions[topic_idx])\n",
    "        for rank in range(num_top_words):\n",
    "            word_idx = sort_indices[rank]\n",
    "            print(vocab[word_idx], ':',\n",
    "                  topic_word_distributions[topic_idx, word_idx])\n",
    "        print()\n",
    "\n",
    "print_top_words(topic_word_distributions, num_top_words, tf_vectorizer)"
   ]
  },
  {
   "cell_type": "code",
   "execution_count": null,
   "metadata": {},
   "outputs": [],
   "source": [
    "doc_topic_matrix = lda.transform(tf)"
   ]
  },
  {
   "cell_type": "code",
   "execution_count": null,
   "metadata": {},
   "outputs": [],
   "source": [
    "doc_topic_matrix.shape"
   ]
  },
  {
   "cell_type": "code",
   "execution_count": null,
   "metadata": {},
   "outputs": [],
   "source": [
    "doc_topic_matrix[0]"
   ]
  }
 ],
 "metadata": {
  "interpreter": {
   "hash": "1a121e43199d68748eed0edd666353fd2b74e9fbbe110851704ea712f38100b8"
  },
  "kernelspec": {
   "display_name": "Python 3",
   "language": "python",
   "name": "python3"
  },
  "language_info": {
   "codemirror_mode": {
    "name": "ipython",
    "version": 3
   },
   "file_extension": ".py",
   "mimetype": "text/x-python",
   "name": "python",
   "nbconvert_exporter": "python",
   "pygments_lexer": "ipython3",
   "version": "3.8.3"
  }
 },
 "nbformat": 4,
 "nbformat_minor": 4
}
