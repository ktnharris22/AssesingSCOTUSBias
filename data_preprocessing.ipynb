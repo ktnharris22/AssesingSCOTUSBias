{
 "cells": [
  {
   "cell_type": "code",
   "execution_count": 25,
   "metadata": {},
   "outputs": [
    {
     "name": "stdout",
     "output_type": "stream",
     "text": [
      "(17920, 15)\n",
      "Unnamed: 0                   int64\n",
      "author_name                 object\n",
      "category                    object\n",
      "per_curiam                    bool\n",
      "case_name                   object\n",
      "date_filed                  object\n",
      "federal_cite_one            object\n",
      "absolute_url                object\n",
      "cluster                     object\n",
      "year_filed                   int64\n",
      "scdb_id                     object\n",
      "scdb_decision_direction    float64\n",
      "scdb_votes_majority        float64\n",
      "scdb_votes_minority        float64\n",
      "text                        object\n",
      "dtype: object\n",
      "(120, 3)\n",
      "ChiefJustice            float64\n",
      "Name                     object\n",
      "AppointedByPresident     object\n",
      "dtype: object\n",
      "(45, 2)\n",
      "PRESIDENT          object\n",
      "POLITICAL PARTY    object\n",
      "dtype: object\n"
     ]
    }
   ],
   "source": [
    "import pandas as pd\n",
    "df_40 = pd.read_csv(\"./Data/all_opinions_1940.csv\")\n",
    "print(df_40.shape)\n",
    "print(df_40.dtypes)\n",
    "\n",
    "df_justice = pd.read_csv(\"./Data/JusticeData.csv\", usecols=['ChiefJustice','Name','AppointedByPresident'])\n",
    "print(df_justice.shape)\n",
    "print(df_justice.dtypes)\n",
    "\n",
    "df_presidents = pd.read_csv(\"./Data/PresidentialParty.csv\",usecols=['PRESIDENT','POLITICAL PARTY'])\n",
    "print(df_presidents.shape)\n",
    "print(df_presidents.dtypes)"
   ]
  },
  {
   "cell_type": "code",
   "execution_count": null,
   "metadata": {},
   "outputs": [],
   "source": [
    "df_40.author_name.unique"
   ]
  },
  {
   "cell_type": "code",
   "execution_count": null,
   "metadata": {},
   "outputs": [],
   "source": [
    "df_justice.Name.unique"
   ]
  },
  {
   "cell_type": "code",
   "execution_count": 26,
   "metadata": {},
   "outputs": [],
   "source": [
    "df_presidents['LastName'] = df_presidents['PRESIDENT'].apply(lambda x: x.split(\" \")[-1]) #get last name of each pres\n",
    "df_presidents.loc[41, 'LastName'] = 'Bush, G. W.' #deal with weird cases of same last name \n",
    "df_presidents.loc[39, 'LastName'] = 'Bush, G. H. W.' \n",
    "df_presidents.loc[34, 'LastName'] = 'Johnson, L.'\n",
    "df_presidents.loc[30, 'LastName'] = 'Roosevelt, F.'\n",
    "df_presidents.loc[24, 'LastName'] = 'Roosevelt, T.'\n",
    "df_presidents.loc[8, 'LastName'] = 'Harrison, W. H.'  \n",
    "df_presidents.loc[5, 'LastName'] = 'Adams, J. Q.'\n",
    "df_presidents.loc[1, 'LastName'] = 'Adams, J.'  "
   ]
  },
  {
   "cell_type": "code",
   "execution_count": 27,
   "metadata": {},
   "outputs": [],
   "source": [
    "df_justice.AppointedByPresident = df_justice.AppointedByPresident.astype(str)\n",
    "df_presidents.LastName = df_presidents.LastName.astype(str)\n",
    "df_justice = df_justice.merge(df_presidents, left_on='AppointedByPresident', right_on='LastName', how='left').drop(columns=['PRESIDENT'])"
   ]
  },
  {
   "cell_type": "code",
   "execution_count": 20,
   "metadata": {},
   "outputs": [],
   "source": [
    "df_40['author_lastname'] = df_40.author_name.apply(lambda x: x.split(\" \")[-1]) #get last name of each justice\n",
    "df_justice['LastName'] = df_justice.Name.apply(lambda x: x.split(\",\")[0]) #get last name of each justice"
   ]
  },
  {
   "cell_type": "code",
   "execution_count": null,
   "metadata": {},
   "outputs": [],
   "source": [
    "df_40 = df_40.merge(df_justice, left_on='author_name', right_on='Name', how=\"right\")"
   ]
  },
  {
   "cell_type": "code",
   "execution_count": null,
   "metadata": {},
   "outputs": [],
   "source": [
    "test = df_40[['author_name', 'Name', 'POLITICAL PARTY']]"
   ]
  }
 ],
 "metadata": {
  "interpreter": {
   "hash": "1a121e43199d68748eed0edd666353fd2b74e9fbbe110851704ea712f38100b8"
  },
  "kernelspec": {
   "display_name": "Python 3.8.8 ('base')",
   "language": "python",
   "name": "python3"
  },
  "language_info": {
   "codemirror_mode": {
    "name": "ipython",
    "version": 3
   },
   "file_extension": ".py",
   "mimetype": "text/x-python",
   "name": "python",
   "nbconvert_exporter": "python",
   "pygments_lexer": "ipython3",
   "version": "3.9.7"
  },
  "orig_nbformat": 4
 },
 "nbformat": 4,
 "nbformat_minor": 2
}
